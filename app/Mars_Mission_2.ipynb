{
 "cells": [
  {
   "cell_type": "markdown",
   "metadata": {},
   "source": [
    "# Mission 2 Mars\n",
    "**This notebook outlines scraping various websites related to Nasa's information on Mars.**  \n",
    "Several blocks of example code have been included that do not pertain to scraping information on Mars but illustrate coding concepts which are pertinent to the code required for the task. Some examples illustrate concepts that would be preferred but did not get fully developed."
   ]
  },
  {
   "cell_type": "code",
   "execution_count": 1,
   "metadata": {},
   "outputs": [],
   "source": [
    "from bs4 import BeautifulSoup as bs\n",
    "#import splinter\n",
    "from splinter import Browser"
   ]
  },
  {
   "cell_type": "code",
   "execution_count": 2,
   "metadata": {},
   "outputs": [
    {
     "name": "stdout",
     "output_type": "stream",
     "text": [
      "selenium==3.141.0\r\n"
     ]
    },
    {
     "data": {
      "text/plain": [
       "['/usr/local/bin/chromedriver']"
      ]
     },
     "execution_count": 2,
     "metadata": {},
     "output_type": "execute_result"
    }
   ],
   "source": [
    "## To check modules in VirtEnv\n",
    "!pip freeze | grep selenium\n",
    "## To check Chrome Path\n",
    "path = !which chromedriver\n",
    "path"
   ]
  },
  {
   "cell_type": "code",
   "execution_count": 3,
   "metadata": {},
   "outputs": [],
   "source": [
    "import os\n",
    "import time\n",
    "import requests\n",
    "import pandas as pd\n",
    "import datetime"
   ]
  },
  {
   "cell_type": "markdown",
   "metadata": {},
   "source": [
    "### Function for getting path to 'chromedriver'"
   ]
  },
  {
   "cell_type": "code",
   "execution_count": 4,
   "metadata": {},
   "outputs": [
    {
     "data": {
      "text/plain": [
       "'/usr/local/bin/chromedriver'"
      ]
     },
     "execution_count": 4,
     "metadata": {},
     "output_type": "execute_result"
    }
   ],
   "source": [
    "def get_path(target_file):\n",
    "    path=os.getenv('PATH')\n",
    "    for file_path in path.split(os.path.pathsep):\n",
    "        file_path=os.path.join(file_path,target_file)\n",
    "        if os.path.exists(file_path) and os.access(file_path,os.X_OK):\n",
    "            return file_path\n",
    "get_path('chromedriver')"
   ]
  },
  {
   "cell_type": "markdown",
   "metadata": {},
   "source": [
    "### Commented out code for hard coding path to chromedriver"
   ]
  },
  {
   "cell_type": "code",
   "execution_count": 5,
   "metadata": {},
   "outputs": [],
   "source": [
    "# Set the executable path and initialize the chrome browser in splinter\n",
    "# chromedriver path is '/usr/local/bin/chromedriver'\n",
    "# executable_path = {'executable_path': '/usr/local/bin/chromedriver' }\n",
    "\n",
    "# browser = Browser('chrome', **executable_path)"
   ]
  },
  {
   "cell_type": "markdown",
   "metadata": {},
   "source": [
    "### Using get_path function on chromedriver "
   ]
  },
  {
   "cell_type": "code",
   "execution_count": 6,
   "metadata": {},
   "outputs": [],
   "source": [
    "# Set the executable path and initialize the chrome browser in splinter\n",
    "path = get_path('chromedriver')\n",
    "executable_path = {'executable_path': path}\n",
    "browser = Browser('chrome', **executable_path)"
   ]
  },
  {
   "cell_type": "markdown",
   "metadata": {},
   "source": [
    "## Better functionality\n",
    "### Web Requests with out Chromedriver\n",
    "Sample code below. Scraping list of Country Codes with Requests and BeautifulSoup\n"
   ]
  },
  {
   "cell_type": "code",
   "execution_count": 7,
   "metadata": {},
   "outputs": [],
   "source": [
    "url = \"https://www.nationsonline.org/oneworld/country_code_list.htm\"\n",
    "\n",
    "response = requests.get(url)\n",
    "\n",
    "# Parse HTML with Beautiful Soup\n",
    "soup = bs(response.text, 'html.parser')\n",
    "\n",
    "html_data = soup.find_all('tr', class_=\"border1\")\n",
    "\n",
    "result = []\n",
    "for i in html_data:\n",
    "    result.append(i.text)\n",
    "\n",
    "dict_= {\"Country\":[],\n",
    "    \"Alpha_2\":[],\n",
    "    \"Alpha_3_Code\":[],\n",
    "    \"UN_Code\":[]}\n",
    "\n",
    "for i in result:\n",
    "    split_list = i.split(\"\\n\")\n",
    "    if len(split_list)>6:\n",
    "        dict_[\"Country\"].append(split_list[2])\n",
    "        dict_[\"Alpha_2\"].append(split_list[3])\n",
    "        dict_[\"Alpha_3_Code\"].append(split_list[4])\n",
    "        dict_[\"UN_Code\"].append(split_list[5])\n",
    "\n",
    "countryISO_df = pd.DataFrame(dict_)"
   ]
  },
  {
   "cell_type": "code",
   "execution_count": 8,
   "metadata": {},
   "outputs": [
    {
     "data": {
      "text/html": [
       "<div>\n",
       "<style scoped>\n",
       "    .dataframe tbody tr th:only-of-type {\n",
       "        vertical-align: middle;\n",
       "    }\n",
       "\n",
       "    .dataframe tbody tr th {\n",
       "        vertical-align: top;\n",
       "    }\n",
       "\n",
       "    .dataframe thead th {\n",
       "        text-align: right;\n",
       "    }\n",
       "</style>\n",
       "<table border=\"1\" class=\"dataframe\">\n",
       "  <thead>\n",
       "    <tr style=\"text-align: right;\">\n",
       "      <th></th>\n",
       "      <th>Country</th>\n",
       "      <th>Alpha_2</th>\n",
       "      <th>Alpha_3_Code</th>\n",
       "      <th>UN_Code</th>\n",
       "    </tr>\n",
       "  </thead>\n",
       "  <tbody>\n",
       "    <tr>\n",
       "      <th>0</th>\n",
       "      <td>Aland Islands</td>\n",
       "      <td>AX</td>\n",
       "      <td>ALA</td>\n",
       "      <td>248</td>\n",
       "    </tr>\n",
       "    <tr>\n",
       "      <th>1</th>\n",
       "      <td>Albania</td>\n",
       "      <td>AL</td>\n",
       "      <td>ALB</td>\n",
       "      <td>008</td>\n",
       "    </tr>\n",
       "    <tr>\n",
       "      <th>2</th>\n",
       "      <td>Algeria</td>\n",
       "      <td>DZ</td>\n",
       "      <td>DZA</td>\n",
       "      <td>012</td>\n",
       "    </tr>\n",
       "    <tr>\n",
       "      <th>3</th>\n",
       "      <td>American Samoa</td>\n",
       "      <td>AS</td>\n",
       "      <td>ASM</td>\n",
       "      <td>016</td>\n",
       "    </tr>\n",
       "    <tr>\n",
       "      <th>4</th>\n",
       "      <td>Andorra</td>\n",
       "      <td>AD</td>\n",
       "      <td>AND</td>\n",
       "      <td>020</td>\n",
       "    </tr>\n",
       "  </tbody>\n",
       "</table>\n",
       "</div>"
      ],
      "text/plain": [
       "          Country Alpha_2 Alpha_3_Code UN_Code\n",
       "0   Aland Islands      AX          ALA     248\n",
       "1         Albania      AL          ALB     008\n",
       "2         Algeria      DZ          DZA     012\n",
       "3  American Samoa      AS          ASM     016\n",
       "4         Andorra      AD          AND     020"
      ]
     },
     "execution_count": 8,
     "metadata": {},
     "output_type": "execute_result"
    }
   ],
   "source": [
    "countryISO_df.head()"
   ]
  },
  {
   "cell_type": "markdown",
   "metadata": {},
   "source": [
    "### NASA Mars News\n",
    "\n",
    "* Scrape the [NASA Mars News Site](https://mars.nasa.gov/news/) and collect the latest News Title and Paragraph Text. Assign the text to variables that you can reference later."
   ]
  },
  {
   "cell_type": "markdown",
   "metadata": {},
   "source": [
    "#### Code to use 'request' to get html instead of 'splinter' . \n",
    "**'Respons' gets noneType object.**  \n",
    "**Need to look further at data types.**\n",
    "```python\n",
    "# Set URL for Nasa news\n",
    "nasa_url = 'https://mars.nasa.gov/news/'\n",
    "# browser.visit(nasa_url)\n",
    "response = requests.get(nasa_url)\n",
    "\n",
    "#Create BeautifulSoup object out of webpage html\n",
    "soup = bs(response.text, 'html.parser')\n",
    "```"
   ]
  },
  {
   "cell_type": "code",
   "execution_count": 9,
   "metadata": {},
   "outputs": [],
   "source": [
    "# Set URL for Nasa news\n",
    "nasa_url = 'https://mars.nasa.gov/news/'\n",
    "browser.visit(nasa_url)\n",
    "\n",
    "#assign string html splinter response to local variable\n",
    "nasa_html= browser.html\n",
    "\n",
    "#Create BeautifulSoup object out of webpage html\n",
    "soup = bs(nasa_html, 'html.parser')"
   ]
  },
  {
   "cell_type": "code",
   "execution_count": 10,
   "metadata": {},
   "outputs": [
    {
     "name": "stdout",
     "output_type": "stream",
     "text": [
      "-------------\n",
      "Title: A Rover Pit Stop at JPL:\n",
      "Discription: >>> Working like a finely honed machine, a team of engineers in this time-lapse video clip install test wheels on another finely honed machine: NASA's Mars 2020 rover. <<<\n",
      "-------------\n"
     ]
    }
   ],
   "source": [
    "# for link in soup.find_all('li'):\n",
    "#     print(link)\n",
    "\n",
    "#Isolate unordered list containing news stories.\n",
    "nasa_news = soup.find('ul', class_='item_list')\n",
    "\n",
    "# #Isolate the List Item/s from the 'ul' container\n",
    "news_stories = nasa_news.find_all('li')\n",
    "# news_stories = nasa_news.find('li')\n",
    "#news_stories\n",
    "\n",
    "first_story = news_stories[0]\n",
    "### #first_story\n",
    "# Identify and return title\n",
    "news_title = first_story.find('div', class_ = \"bottom_gradient\").h3.text\n",
    "# Identify and story summary\n",
    "news_p = first_story.find('div', class_ = \"article_teaser_body\").text\n",
    "\n",
    "\n",
    "# Print results for title and paragraph\n",
    "print('-------------')\n",
    "print(f'Title: {news_title}:')\n",
    "print(f'Discription: >>> {news_p} <<<')\n",
    "print('-------------')"
   ]
  },
  {
   "cell_type": "markdown",
   "metadata": {},
   "source": [
    "### Getting the full text for the article\n",
    "#### Not Required for assignment"
   ]
  },
  {
   "cell_type": "code",
   "execution_count": 11,
   "metadata": {},
   "outputs": [
    {
     "data": {
      "text/plain": [
       "'\\n\\n\\n\\nPit Crew for Mars: NASA\\'s Mars 2020 Rover Gets Some Wheels (time lapse): A team of engineers at NASA\\'s Jet Propulsion Laboratory in Pasadena, California, install the legs and wheels — otherwise known as the mobility suspension — on the Mars 2020 rover. The imagery for this accelerated time-lapse was taken on June 13, 2019, from a camera above the Spacecraft Assembly Facility\\'s High Bay 1 clean room. Credit: NASA/JPL-Caltech. Video download ›\\n\\n\\nConstructing an exquisitely complex vehicle like the Mars 2020 rover takes serious teamwork. On June 13, 2019, more than a dozen \"bunny suit\"-clad engineers rolled past another milestone in the clean room of the Spacecraft Assembly Facility at NASA\\'s Jet Propulsion Laboratory in Pasadena, California, when they integrated the rover\\'s legs and wheels.\\nThe Mars 2020 team could pass for a pit crew in this video clip, which has been sped up by 300% and focuses on the major activities that took place the day the wheels were installed.\\n\\n\\n\\n\\n\\n\\n\\nMars 2020\\'s Hot Wheels: A team of engineers at NASA\\'s Jet Propulsion Laboratory in Pasadena, California, install the legs and wheels — otherwise known as the mobility suspension — on the Mars 2020 rover. Image Credit: NASA/JPL-Caltech. Full image and caption ›\\n\\n\\n\\nAdding to the complexity of the engineering team\\'s integration effort was the \"rocker-bogie\" suspension system, which keeps the rover body balanced, enabling it to \"rock\" up or down, depending on the various positions of the six wheels.\\nMeasuring 20.7 inches (52.5 centimeters) in diameter and machined with traction-providing cleats, or grousers, the wheels seen here are engineering models that will be replaced with flight models next year. Every wheel has its own motor. The two front and two rear wheels also have individual steering motors that enable the vehicle to turn a full 360 degrees in place.\\nMars 2020 will launch from Cape Canaveral Air Force Station in Florida in July 2020. It will land at Jezero Crater on Feb. 18, 2021.\\nCharged with returning astronauts to the Moon by 2024, NASA\\'s Artemis lunar exploration plans will establish a sustained human presence on and around the Moon by 2028. We will use what we learn on the Moon to prepare to send astronauts to Mars.\\nJPL is building and will manage operations of the Mars 2020 rover for the NASA Science Mission Directorate at the agency\\'s headquarters in Washington.\\nIf you want to send your name to Mars with NASA\\'s 2020 mission, you can do so until Sept. 30, 2019. Add your name to the list and obtain a souvenir boarding pass to Mars here: \\nhttps://go.nasa.gov/Mars2020Pass\\nFor more information about the mission, go to:\\nhttps://mars.nasa.gov/mars2020/\\nNews Media Contact\\nAndrew Good\\nJet Propulsion Laboratory, Pasadena, Calif.\\n818-393-2433\\nandrew.c.good@jpl.nasa.gov\\nAlana Johnson\\nNASA Headquarters, Washington\\n202-358-1501\\nalana.r.johnson@nasa.gov\\n'"
      ]
     },
     "execution_count": 11,
     "metadata": {},
     "output_type": "execute_result"
    }
   ],
   "source": [
    "# Get link for full Article (not required)\n",
    "news_link_div = first_story.find('div', class_='image_and_description_container')\n",
    "\n",
    "\n",
    "news_link = (news_link_div.find('a')['href'])\n",
    "#news_link\n",
    "\n",
    "# Navigate to bowser for full article (no required)\n",
    "browser.click_link_by_href(news_link)\n",
    "\n",
    "#Get text for full article (not required)\n",
    "splinter_new_html = browser.html\n",
    "\n",
    "new_soup_html = bs(splinter_new_html, \"html.parser\")\n",
    "new_soup_html.find('div', class_='wysiwyg_content').get_text()\n"
   ]
  },
  {
   "cell_type": "markdown",
   "metadata": {},
   "source": [
    "## Looping through all stories on first page of Nasa website.\n",
    "#### Not required for assignment"
   ]
  },
  {
   "cell_type": "code",
   "execution_count": 12,
   "metadata": {},
   "outputs": [
    {
     "name": "stdout",
     "output_type": "stream",
     "text": [
      "-------------\n",
      "Title: A Rover Pit Stop at JPL:\n",
      "Discriiption: >>> Working like a finely honed machine, a team of engineers in this time-lapse video clip install test wheels on another finely honed machine: NASA's Mars 2020 rover. <<<\n",
      "-------------\n",
      "Title: Mars 2020 Rover Gets a Super Instrument:\n",
      "Discriiption: >>> With its rock-zapping laser, the SuperCam will enable the science team to identify the chemical and mineral makeup of its targets on the Red Planet. <<<\n",
      "-------------\n",
      "Title: A Neil Armstrong for Mars: Landing the Mars 2020 Rover:\n",
      "Discriiption: >>> NASA's newest rover will have an autopilot called Terrain-Relative Navigation. <<<\n",
      "-------------\n",
      "Title: NASA's InSight Uncovers the 'Mole' :\n",
      "Discriiption: >>> The lander's robotic arm has successfully removed a piece of hardware blocking the view of its digging device in order to help with recovery efforts. <<<\n",
      "-------------\n",
      "Title: Mars 2020 Rover's 7-Foot-Long Robotic Arm Installed:\n",
      "Discriiption: >>> The main robotic arm has been installed on NASA's newest rover. When complete, the arm will enable the rover to hold and use science tools like a human geologist would. <<<\n",
      "-------------\n",
      "Title: NASA Selects Partners for Mars 2020 'Name the Rover' Contest, Seeks Judges:\n",
      "Discriiption: >>> The contest for U.S. schoolchildren will open in fall 2019, but judges can sign up now. <<<\n",
      "-------------\n",
      "Title: Curiosity's Mars Methane Mystery Continues:\n",
      "Discriiption: >>> The Curiosity rover’s follow-on sampling shows last week’s methane levels have sharply decreased. <<<\n",
      "-------------\n",
      "Title: Mars 2020 Rover Gets Its Wheels:\n",
      "Discriiption: >>> With the mobility suspension in place, the rover not only looks more like a rover but has many of its 'big-ticket items' installed. <<<\n",
      "-------------\n",
      "Title: The Mast Is Raised for NASA's Mars 2020 Rover:\n",
      "Discriiption: >>> Engineers at JPL take a group selfie after attaching the remote sensing mast to the Mars 2020 rover. <<<\n",
      "-------------\n",
      "Title: NASA's Mars 2020 Will Blaze a Trail — for Humans:\n",
      "Discriiption: >>> The next robotic Mars mission will carry technology that will help enable astronauts to eventually explore the Red Planet. <<<\n",
      "-------------\n",
      "Title: Johnson-Built Device to Help Mars 2020 Rover Search for Signs of Life:\n",
      "Discriiption: >>> NASA’s Johnson Space Center (JSC) recently built a new calibration device for the rover to check SHERLOC’s function and properly tune it during the upcoming mission. <<<\n",
      "-------------\n",
      "Title: Watch NASA Build Its Next Mars Rover:\n",
      "Discriiption: >>> A newly installed webcam offers the public a live, bird's-eye view of NASA's Mars 2020 rover as it takes shape at NASA's Jet Propulsion Laboratory.  <<<\n",
      "-------------\n",
      "Title: NASA's Mars Helicopter Testing Enters Final Phase:\n",
      "Discriiption: >>> NASA's Mars Helicopter flight demonstration project has passed a number of key tests with flying colors. <<<\n",
      "-------------\n",
      "Title: InSight's Team Tries New Strategy to Help the 'Mole':\n",
      "Discriiption: >>> The spacecraft's robotic arm will lift the heat probe's support structure, providing a better look at the instrument that has been trying to burrow into the Martian surface. <<<\n",
      "-------------\n",
      "Title: Common Questions about InSight's 'Mole':\n",
      "Discriiption: >>> There's a new plan to get InSight's \"mole\" moving again. The following Q&As with two members of the team answer some of the most common questions about the burrowing device, part of a science instrument called the Heat Flow and Physical Properties Package (HP3). <<<\n",
      "-------------\n",
      "Title: NASA's Curiosity Mars Rover Finds a Clay Cache:\n",
      "Discriiption: >>> The rover recently drilled two samples, and both showed the highest levels of clay ever found during the mission. <<<\n",
      "-------------\n",
      "Title: NASA to Land in Mars, Pennsylvania to Celebrate Red Planet with STEAM:\n",
      "Discriiption: >>> NASA returns to Mars, Pennsylvania Friday, May 31 to celebrate Mars exploration and share the agency’s excitement about landing astronauts on the Moon in five years. <<<\n",
      "-------------\n",
      "Title: NASA's Mars 2020 Gets a Dose of Space Here on Earth:\n",
      "Discriiption: >>> NASA's Mars 2020 spacecraft has completed tests that are the best Earthly approximations of what the spacecraft will endure during launch and interplanetary cruise. <<<\n",
      "-------------\n",
      "Title: NASA Invites Public to Submit Names to Fly Aboard Next Mars Rover:\n",
      "Discriiption: >>> From now till Sept. 30, the public can submit names to be stenciled on chips that will fly on the Mars 2020 rover and receive a souvenir boarding pass. <<<\n",
      "-------------\n",
      "Title: NASA's MRO Completes 60,000 Trips Around Mars:\n",
      "Discriiption: >>> The orbiting spacecraft is also about to set a record for data relayed from the Martian surface. <<<\n",
      "-------------\n",
      "Title: Video: Fly over Mount Sharp on Mars:\n",
      "Discriiption: >>> A new animation shows the region NASA's Curiosity rover is currently exploring and where its team wants to go in the future. <<<\n",
      "-------------\n",
      "Title: Why This Martian Full Moon Looks Like Candy:\n",
      "Discriiption: >>> For the first time, NASA's Mars Odyssey orbiter has caught the Martian moon Phobos during a full moon phase. Each color in this new image represents a temperature range detected by Odyssey's infrared camera. <<<\n",
      "-------------\n",
      "Title: For InSight, Dust Cleanings Will Yield New Science:\n",
      "Discriiption: >>> Wind can be crucial to clearing dust from spacecraft solar panels on Mars. With InSight's meteorological sensors, scientists get their first measurements of wind and dust interacting \"live\" on the Martian surface.   <<<\n",
      "-------------\n",
      "Title: InSight Captures Sunrise and Sunset on Mars:\n",
      "Discriiption: >>> InSight joins the rest of NASA's Red Planet surface missions, all of which have photographed either the start or end of a Martian day. <<<\n",
      "-------------\n",
      "Title: NASA Social Media and Websites Win Webby Awards :\n",
      "Discriiption: >>> NASA's social media presence, the InSight mission social media accounts, NASA.gov and SolarSystem.NASA.gov will be honored at the 2019 Webby Awards - \"the Oscars of the Internet.\" <<<\n",
      "-------------\n",
      "Title: NASA's InSight Detects First Likely 'Quake' on Mars:\n",
      "Discriiption: >>> While their causes are still unknown, one of three shaking events looks a lot like the quakes detected on the Moon by the Apollo missions. <<<\n",
      "-------------\n",
      "Title: Things Are Stacking up for NASA's Mars 2020 Spacecraft:\n",
      "Discriiption: >>> As the July 2020 launch date inches closer, the next spacecraft headed to the Red Planet is assembled for more testing. <<<\n",
      "-------------\n",
      "Title: Curiosity Tastes First Sample in 'Clay-Bearing Unit':\n",
      "Discriiption: >>> This new region on Mars might reveal more about the role of water on Mount Sharp. <<<\n",
      "-------------\n",
      "Title: More Testing for Mars InSight's 'Mole':\n",
      "Discriiption: >>> After the mission's heat probe began hammering last week, it appears to have hit a rock. The team is analyzing data before they hammer again. <<<\n",
      "-------------\n",
      "Title: NASA Garners 7 Webby Award Nominations:\n",
      "Discriiption: >>> Nominees include four JPL projects: the solar system and climate websites, InSight social media, and a 360-degree Earth video. Public voting closes April 18, 2019. <<<\n",
      "-------------\n",
      "Title: Curiosity Captured Two Solar Eclipses on Mars:\n",
      "Discriiption: >>> Observing the Martian moons Phobos and Deimos crossing in front of the Sun helps scientists better understand their orbits. <<<\n",
      "-------------\n",
      "Title: NASA's Mars Helicopter Completes Flight Tests:\n",
      "Discriiption: >>> The first helicopter to fly on Mars had its first flight on Earth. <<<\n",
      "-------------\n",
      "Title: Asteroids, Hydrogen Make Great Recipe for Life on Mars:\n",
      "Discriiption: >>> Laser blasts in lab tests suggest asteroid bombardment could have provided key ingredients for life on ancient Mars. <<<\n",
      "-------------\n",
      "Title: Catch NASA's JPL at the Clippers SciFest This Weekend:\n",
      "Discriiption: >>> Students and families can meet a Mars rover, take a virtual tour through our solar system and explore alien worlds with NASA's Jet Propulsion Laboratory at the Clippers SciFest SoCal. <<<\n",
      "-------------\n",
      "Title: NASA's Mars 2020 Rover Is Put to the Test:\n",
      "Discriiption: >>> In January, Mars 2020 engineers and technicians took over JPL's cleanroom to put the mission's cruise, entry capsule, descent stage and rover through their paces. <<<\n",
      "-------------\n",
      "Title: Opportunity's Parting Shot Was a Beautiful Panorama:\n",
      "Discriiption: >>> NASA declared the record-setting rover's mission complete on Feb. 13, 2019, but the final image from the rover has just been processed. <<<\n",
      "-------------\n",
      "Title: Curiosity Resumes Operations After Switching Computers:\n",
      "Discriiption: >>> Curiosity experienced a computer reset on its Side-A computer on Wednesday, March 6, 2019 (Sol 2,339), that triggered the rover's safe mode. <<<\n",
      "-------------\n",
      "Title: InSight Lands Praise and a Proclamation from LA County:\n",
      "Discriiption: >>> Several members of the Mars InSight team accepted a proclamation on behalf of the mission from L.A. County Board of Supervisors on Tuesday, Feb. 19. <<<\n",
      "-------------\n",
      "Title: InSight Is the Newest Mars Weather Service:\n",
      "Discriiption: >>> By collecting data around the clock, NASA's lander will provide unique science about the Martian surface. <<<\n",
      "-------------\n",
      "Title: Six Things to Know About NASA's Opportunity Rover:\n",
      "Discriiption: >>> Opportunity's mission is complete. Here are highlights from its time on Mars. <<<\n"
     ]
    }
   ],
   "source": [
    "# Loop through news story list items and return printable results.\n",
    "for story in news_stories:\n",
    "    # Error handling\n",
    "    try:\n",
    "        # Identify and return title\n",
    "        news_title = story.find('div', class_ = \"bottom_gradient\").h3.text\n",
    "        # Identify and story summary\n",
    "        news_p = story.find('div', class_ = \"article_teaser_body\").text\n",
    "        \n",
    "\n",
    "        # Print results only if title, price, and link are available\n",
    "        if (news_title and news_p):\n",
    "            print('-------------')\n",
    "            print(f'Title: {news_title}:')\n",
    "            print(f'Discriiption: >>> {news_p} <<<')\n",
    "    except AttributeError as e:\n",
    "        print(e)\n",
    "        "
   ]
  },
  {
   "cell_type": "markdown",
   "metadata": {},
   "source": [
    "## JPL Mars Space Images - Featured Image\n",
    "\n",
    "* Visit the url for JPL Featured Space Image [here](https://www.jpl.nasa.gov/spaceimages/?search=&category=Mars).\n",
    "\n",
    "* Use splinter to navigate the site and find the image url for the current Featured Mars Image and assign the url string to a variable called `featured_image_url`.\n",
    "\n",
    "* Make sure to find the image url to the full size `.jpg` image.\n",
    "\n",
    "* Make sure to save a complete url string for this image.\n",
    "\n",
    "```python\n",
    "# Example:\n",
    "featured_image_url = 'https://www.jpl.nasa.gov/spaceimages/images/largesize/PIA16225_hires.jpg'\n",
    "```"
   ]
  },
  {
   "cell_type": "markdown",
   "metadata": {},
   "source": [
    "### Set up JPL url with base_url to be used later on\n",
    "\n",
    "**jpl_url** set to: https://www.jpl.nasa.gov/spaceimages/?search=&category=Mars"
   ]
  },
  {
   "cell_type": "code",
   "execution_count": 13,
   "metadata": {},
   "outputs": [],
   "source": [
    "# Set base url to be used later.\n",
    "base_url = 'https://www.jpl.nasa.gov'\n",
    "# Go to search results for Mars\n",
    "jpl_url = f'{base_url}/spaceimages/?search=&category=Mars'\n",
    "image_html= browser.visit(jpl_url)\n"
   ]
  },
  {
   "cell_type": "markdown",
   "metadata": {},
   "source": [
    "### Primary Method for getting JPL Mars Space Images"
   ]
  },
  {
   "cell_type": "code",
   "execution_count": 14,
   "metadata": {},
   "outputs": [
    {
     "name": "stdout",
     "output_type": "stream",
     "text": [
      "https://www.jpl.nasa.gov/spaceimages/images/largesize/PIA19674_hires.jpg\n"
     ]
    }
   ],
   "source": [
    "base_url = 'https://www.jpl.nasa.gov'\n",
    "jpl_url = f'{base_url}/spaceimages/?search=&category=Mars'\n",
    "\n",
    "browser.visit(jpl_url)\n",
    "#image_html= browser.visit(jpl_url)\n",
    "\n",
    "jpl_a_html = browser.html\n",
    "\n",
    "\n",
    "parsed_a_html = bs(jpl_a_html, 'html.parser')\n",
    "\n",
    "\n",
    "description_page = parsed_a_html.find_all('a', class_='button fancybox')[0]['data-link']\n",
    "\n",
    "#Concatenate route and base url\n",
    "description_url = base_url + description_page\n",
    "\n",
    "#Open new url using splinter\n",
    "browser.visit(description_url)\n",
    "\n",
    "#Create HTML object\n",
    "image = browser.html\n",
    "\n",
    "#Parse HTML object with BeautifulSoup\n",
    "soup = bs(image, 'html.parser')\n",
    "\n",
    "#Retrieve route to full-size image \n",
    "img = soup.find('img', class_=\"main_image\")['src']\n",
    "\n",
    "#Concatenate route with base url\n",
    "featured_image_url = base_url + img\n",
    "print(featured_image_url)\n"
   ]
  },
  {
   "cell_type": "markdown",
   "metadata": {},
   "source": [
    "### Navigating to image to get url (not recommended method)\n",
    "(this section of code commented out for reason's described below)"
   ]
  },
  {
   "cell_type": "code",
   "execution_count": 15,
   "metadata": {
    "scrolled": false
   },
   "outputs": [],
   "source": [
    "## The Python environment for running this section requires specification \n",
    "## that were not recorded and need to be determined for proper configuration.\n",
    "\n",
    "# # Navigating to image and then getting url.\n",
    "# image_link = browser.find_link_by_partial_text('FULL IMAGE')\n",
    "# print(image_link)\n",
    "# image_link.click()\n",
    "# #Getting html from page\n",
    "# jpl_2_html = browser.html\n",
    "# parsed_html = bs(jpl_2_html, 'html.parser')\n",
    "# #Finding div container with URL\n",
    "# grab_div = parsed_html.find('div', class_ = \"fancybox-inner\")\n",
    "# src_url = (grab_div.find('img')['src'])\n",
    "# print(src_url)\n",
    "# jpl_img_url = f'{base_url}{src_url}'\n",
    "# browser.visit(jpl_img_url)\n",
    "# print(jpl_img_url)"
   ]
  },
  {
   "cell_type": "markdown",
   "metadata": {},
   "source": [
    "### Example Code\n",
    "**Sample Code** for understanding Soup parsing"
   ]
  },
  {
   "cell_type": "code",
   "execution_count": 16,
   "metadata": {},
   "outputs": [
    {
     "name": "stdout",
     "output_type": "stream",
     "text": [
      "smiley.gif\n"
     ]
    }
   ],
   "source": [
    "html = '''\n",
    "<img src=\"smiley.gif\" alt=\"Smiley face\" height=\"42\" width=\"42\">'''\n",
    "soup = bs(html)\n",
    "images = soup.find('img')\n",
    "print(images['src']) #smiley.gif\n",
    "#############\n",
    "## Example code\n",
    "# url = browser.visit('http://www.python.org')\n",
    "\n",
    "# python_html = browser.html\n",
    "# soup = bs(python_html, 'html.parser')\n",
    "# srcs = [img['src'] for img in soup.find_all('img')]\n",
    "# srcs\n",
    "#############\n",
    "## Getting image paths from webpage. Combine with base URL for image url\n",
    "# url = browser.visit('https://www.jpl.nasa.gov/spaceimages/?search=&category=Mars')\n",
    "\n",
    "# test_html = browser.html\n",
    "# soup = bs(test_html, 'html.parser')\n",
    "# srcs = [img['src'] for img in soup.find_all('img')]\n",
    "# srcs\n",
    "##############"
   ]
  },
  {
   "cell_type": "markdown",
   "metadata": {},
   "source": [
    "## Mars Weather"
   ]
  },
  {
   "cell_type": "code",
   "execution_count": 17,
   "metadata": {},
   "outputs": [
    {
     "data": {
      "text/plain": [
       "'The #Mars2020 rover gets her wheels from the pit crew with PhDs\\nhttps://mars.nasa.gov/mars2020/mission/where-is-the-rover/\\xa0…pic.twitter.com/DRHHZpRI3f'"
      ]
     },
     "execution_count": 17,
     "metadata": {},
     "output_type": "execute_result"
    }
   ],
   "source": [
    "#Set Mars twitter URL\n",
    "mars_twitter_url = \"https://twitter.com/marswxreport?lang=en\"\n",
    "\n",
    "#Navigate to Mars twitter URL.\n",
    "browser.visit(mars_twitter_url)\n",
    "\n",
    "#Pull HTML from twitter page.\n",
    "mars_twitter_html = browser.html\n",
    "\n",
    "#Use Beautiful Soup to parse html from browser.\n",
    "mars_twitter_soup = bs(mars_twitter_html, \"html.parser\")\n",
    "\n",
    "#Find most recent tweet of weather.\n",
    "mars_tweet= mars_twitter_soup.find('div', class_='js-tweet-text-container').find('p').get_text()\n",
    "\n",
    "mars_tweet"
   ]
  },
  {
   "cell_type": "markdown",
   "metadata": {},
   "source": [
    "### Mars Hemispheres\n",
    "\n",
    "* Visit the USGS Astrogeology site [here](https://astrogeology.usgs.gov/search/results?q=hemisphere+enhanced&k1=target&v1=Mars) to obtain high resolution images for each of Mar's hemispheres.\n",
    "\n",
    "* You will need to click each of the links to the hemispheres in order to find the image url to the full resolution image.\n",
    "\n",
    "* Save both the image url string for the full resolution hemisphere image, and the Hemisphere title containing the hemisphere name. Use a Python dictionary to store the data using the keys `img_url` and `title`.\n",
    "\n",
    "* Append the dictionary with the image url string and the hemisphere title to a list. This list will contain one dictionary for each hemisphere.\n",
    "\n",
    "```python\n",
    "# Example:\n",
    "hemisphere_image_urls = [\n",
    "    {\"title\": \"Valles Marineris Hemisphere\", \"img_url\": \"...\"},\n",
    "    {\"title\": \"Cerberus Hemisphere\", \"img_url\": \"...\"},\n",
    "    {\"title\": \"Schiaparelli Hemisphere\", \"img_url\": \"...\"},\n",
    "    {\"title\": \"Syrtis Major Hemisphere\", \"img_url\": \"...\"},\n",
    "]\n",
    "```\n",
    "\n",
    "- - -"
   ]
  },
  {
   "cell_type": "code",
   "execution_count": 18,
   "metadata": {},
   "outputs": [
    {
     "name": "stdout",
     "output_type": "stream",
     "text": [
      "------\n",
      "Opening Browser\n",
      "------\n",
      "------\n",
      "Image Loop 1\n",
      "------\n",
      "------\n",
      "Image Loop 2\n",
      "------\n",
      "------\n",
      "Image Loop 3\n",
      "------\n",
      "------\n",
      "Image Loop 4\n",
      "------\n",
      "Program Complete\n",
      "\n",
      "Found following images:\n",
      "1.) Cerberus Hemisphere Enhanced\n",
      "2.) Schiaparelli Hemisphere Enhanced\n",
      "3.) Syrtis Major Hemisphere Enhanced\n",
      "4.) Valles Marineris Hemisphere Enhanced\n"
     ]
    }
   ],
   "source": [
    "# Set url for USGS\n",
    "usgs_start_url= 'https://astrogeology.usgs.gov/search/results?q=hemisphere+enhanced&k1=target&v1=Mars'\n",
    "\n",
    "#Go to initial page\n",
    "browser.visit(usgs_start_url)\n",
    "time.sleep(.01)\n",
    "\n",
    "#Set list variable\n",
    "hemisphere_image_urls = []\n",
    "\n",
    "print(\"------\\nOpening Browser\\n------\")\n",
    "\n",
    "#List of WebDriveElements\n",
    "usgs_items = browser.find_by_css(\"a.itemLink h3\")\n",
    "\n",
    "for i in range(len(usgs_items)):\n",
    "    print(f\"------\\nImage Loop {i+1}\\n------\")\n",
    "    usgs_items = browser.find_by_css(\"a.itemLink h3\")\n",
    "    usgs_items[i].click()\n",
    "    time.sleep(.1)\n",
    "\n",
    "    #From image page get URL for image.\n",
    "    li_item = browser.find_by_css(\"div.downloads li\").first\n",
    "    to_soup = bs(li_item.html, \"html.parser\")\n",
    "    usgs_img_url = to_soup.find('a')['href']\n",
    "\n",
    "    #From image page get Title \n",
    "    title_item = browser.find_by_css(\"div.content h2\").text\n",
    "    \n",
    "    #print items\n",
    "    usgs_dict = { 'title' : title_item, 'img_url': usgs_img_url}\n",
    "    hemisphere_image_urls.append(usgs_dict)\n",
    "    \n",
    "    #Go to initial page\n",
    "    browser.visit(usgs_start_url)\n",
    "    time.sleep(.1)\n",
    "\n",
    "print('Program Complete\\n\\nFound following images:')\n",
    "for i in range(len(hemisphere_image_urls)):\n",
    "    print(f'{i+1}.) {hemisphere_image_urls[i][\"title\"]}')"
   ]
  },
  {
   "cell_type": "code",
   "execution_count": 19,
   "metadata": {},
   "outputs": [
    {
     "data": {
      "text/plain": [
       "'2019-07-13 16:50'"
      ]
     },
     "execution_count": 19,
     "metadata": {},
     "output_type": "execute_result"
    }
   ],
   "source": [
    "current_dt = datetime.datetime.now().strftime(\"%Y-%m-%d %H:%M\")\n",
    "current_dt"
   ]
  },
  {
   "cell_type": "code",
   "execution_count": 20,
   "metadata": {},
   "outputs": [],
   "source": [
    "## Dialing in the print out.\n",
    "\n",
    "# print('Program Complete\\n\\nFound following images:')\n",
    "# for i in range(len(hemisphere_image_urls)):\n",
    "#     print(f'{i+1}.) {hemisphere_image_urls[i][\"title\"]}')"
   ]
  }
 ],
 "metadata": {
  "kernelspec": {
   "display_name": "Python 3",
   "language": "python",
   "name": "python3"
  },
  "language_info": {
   "codemirror_mode": {
    "name": "ipython",
    "version": 3
   },
   "file_extension": ".py",
   "mimetype": "text/x-python",
   "name": "python",
   "nbconvert_exporter": "python",
   "pygments_lexer": "ipython3",
   "version": "3.6.8"
  }
 },
 "nbformat": 4,
 "nbformat_minor": 2
}
