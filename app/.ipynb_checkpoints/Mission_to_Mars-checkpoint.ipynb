{
 "cells": [
  {
   "cell_type": "code",
   "execution_count": 2,
   "metadata": {},
   "outputs": [],
   "source": [
    "from bs4 import BeautifulSoup as bs\n",
    "#import splinter\n",
    "from splinter import Browser"
   ]
  },
  {
   "cell_type": "code",
   "execution_count": 3,
   "metadata": {},
   "outputs": [],
   "source": [
    "## To check modules in VirtEnv\n",
    "#!pip freeze\n",
    "## To check Chrome Path\n",
    "#!which chromedriver"
   ]
  },
  {
   "cell_type": "code",
   "execution_count": 12,
   "metadata": {},
   "outputs": [],
   "source": [
    "# Set the executable path and initialize the chrome browser in splinter\n",
    "executable_path = {'executable_path': '/usr/local/bin/chromedriver'}\n",
    "browser = Browser('chrome', **executable_path)"
   ]
  },
  {
   "cell_type": "markdown",
   "metadata": {},
   "source": [
    "### NASA Mars News\n",
    "\n",
    "* Scrape the [NASA Mars News Site](https://mars.nasa.gov/news/) and collect the latest News Title and Paragraph Text. Assign the text to variables that you can reference later."
   ]
  },
  {
   "cell_type": "code",
   "execution_count": 29,
   "metadata": {},
   "outputs": [],
   "source": [
    "# Set URL for Nasa news\n",
    "nasa_url = 'https://mars.nasa.gov/news/'\n",
    "browser.visit(nasa_url)"
   ]
  },
  {
   "cell_type": "code",
   "execution_count": 30,
   "metadata": {},
   "outputs": [],
   "source": [
    "#assign string html splinter response to local variable\n",
    "nasa_html= browser.html"
   ]
  },
  {
   "cell_type": "code",
   "execution_count": 31,
   "metadata": {},
   "outputs": [
    {
     "data": {
      "text/plain": [
       "[<li class=\"slide\"><div class=\"image_and_description_container\"><a href=\"/news/8428/things-are-stacking-up-for-nasas-mars-2020-spacecraft/\" target=\"_self\"><div class=\"rollover_description\"><div class=\"rollover_description_inner\">As the July 2020 launch date inches closer, the next spacecraft headed to the Red Planet is assembled for more testing.</div><div class=\"overlay_arrow\"><img alt=\"More\" src=\"/assets/overlay-arrow.png\"/></div></div><div class=\"list_image\"><img alt=\"This image shows major components of NASA's Mars 2020 mission in the High Bay 1 clean room in JPL's Spacecraft Assembly Facility.\" src=\"/system/news_items/list_view_images/8428_PIA-23164timelapse-th.gif\"/></div><div class=\"bottom_gradient\"><div><h3>Things Are Stacking up for NASA's Mars 2020 Spacecraft</h3></div></div></a><div class=\"list_text\"><div class=\"list_date\">April 18, 2019</div><div class=\"content_title\"><a href=\"/news/8428/things-are-stacking-up-for-nasas-mars-2020-spacecraft/\" target=\"_self\">Things Are Stacking up for NASA's Mars 2020 Spacecraft</a></div><div class=\"article_teaser_body\">As the July 2020 launch date inches closer, the next spacecraft headed to the Red Planet is assembled for more testing.</div></div></div></li>,\n",
       " <li class=\"slide\"><div class=\"image_and_description_container\"><a href=\"/news/8427/curiosity-tastes-first-sample-in-clay-bearing-unit/\" target=\"_self\"><div class=\"rollover_description\"><div class=\"rollover_description_inner\">This new region on Mars might reveal more about the role of water on Mount Sharp.</div><div class=\"overlay_arrow\"><img alt=\"More\" src=\"/assets/overlay-arrow.png\"/></div></div><div class=\"list_image\"><img alt=\"The Mast Camera, or Mastcam, on NASA's Curiosity Mars rover captured this set of images before and after it drilled a rock nicknamed &quot;Aberlady.&quot;\" src=\"/system/news_items/list_view_images/8427_PIA23138-226.gif\"/></div><div class=\"bottom_gradient\"><div><h3>Curiosity Tastes First Sample in 'Clay-Bearing Unit'</h3></div></div></a><div class=\"list_text\"><div class=\"list_date\">April 11, 2019</div><div class=\"content_title\"><a href=\"/news/8427/curiosity-tastes-first-sample-in-clay-bearing-unit/\" target=\"_self\">Curiosity Tastes First Sample in 'Clay-Bearing Unit'</a></div><div class=\"article_teaser_body\">This new region on Mars might reveal more about the role of water on Mount Sharp.</div></div></div></li>,\n",
       " <li class=\"slide\"><div class=\"image_and_description_container\"><a href=\"/news/8419/more-testing-for-mars-insights-mole/\" target=\"_self\"><div class=\"rollover_description\"><div class=\"rollover_description_inner\">After the mission's heat probe began hammering last week, it appears to have hit a rock. The team is analyzing data before they hammer again.</div><div class=\"overlay_arrow\"><img alt=\"More\" src=\"/assets/overlay-arrow.png\"/></div></div><div class=\"list_image\"><img alt=\"NASA's InSight lander set its heat probe, called the Heat and Physical Properties Package (HP3), on the Martian surface on Feb. 12, 2019.\" src=\"/system/news_items/list_view_images/8419_PIA23046-th.jpg\"/></div><div class=\"bottom_gradient\"><div><h3>More Testing for Mars InSight's 'Mole'</h3></div></div></a><div class=\"list_text\"><div class=\"list_date\">April 11, 2019</div><div class=\"content_title\"><a href=\"/news/8419/more-testing-for-mars-insights-mole/\" target=\"_self\">More Testing for Mars InSight's 'Mole'</a></div><div class=\"article_teaser_body\">After the mission's heat probe began hammering last week, it appears to have hit a rock. The team is analyzing data before they hammer again.</div></div></div></li>,\n",
       " <li class=\"slide\"><div class=\"image_and_description_container\"><a href=\"/news/8426/nasa-garners-7-webby-award-nominations/\" target=\"_self\"><div class=\"rollover_description\"><div class=\"rollover_description_inner\">Nominees include four JPL projects: the solar system and climate websites, InSight social media, and a 360-degree Earth video. Public voting closes April 18, 2019.</div><div class=\"overlay_arrow\"><img alt=\"More\" src=\"/assets/overlay-arrow.png\"/></div></div><div class=\"list_image\"><img alt=\"Seven NASA websites and social media efforts are nominated for the 2019 Webby People's Voice Awards. Public voting continues through April 18.\" src=\"/system/news_items/list_view_images/8426_Webby2019-320x240.jpg\"/></div><div class=\"bottom_gradient\"><div><h3>NASA Garners 7 Webby Award Nominations</h3></div></div></a><div class=\"list_text\"><div class=\"list_date\">April  5, 2019</div><div class=\"content_title\"><a href=\"/news/8426/nasa-garners-7-webby-award-nominations/\" target=\"_self\">NASA Garners 7 Webby Award Nominations</a></div><div class=\"article_teaser_body\">Nominees include four JPL projects: the solar system and climate websites, InSight social media, and a 360-degree Earth video. Public voting closes April 18, 2019.</div></div></div></li>,\n",
       " <li class=\"slide\"><div class=\"image_and_description_container\"><a href=\"/news/8425/curiosity-captured-two-solar-eclipses-on-mars/\" target=\"_self\"><div class=\"rollover_description\"><div class=\"rollover_description_inner\">Observing the Martian moons Phobos and Deimos crossing in front of the Sun helps scientists better understand their orbits.</div><div class=\"overlay_arrow\"><img alt=\"More\" src=\"/assets/overlay-arrow.png\"/></div></div><div class=\"list_image\"><img alt=\"his series of images shows the Martian moon Phobos as it crossed in front of the Sun, as seen by NASA's Curiosity Mars rover on Tuesday, March 26, 2019.\" src=\"/system/news_items/list_view_images/8425_PIA23133-320x240.gif\"/></div><div class=\"bottom_gradient\"><div><h3>Curiosity Captured Two Solar Eclipses on Mars</h3></div></div></a><div class=\"list_text\"><div class=\"list_date\">April  4, 2019</div><div class=\"content_title\"><a href=\"/news/8425/curiosity-captured-two-solar-eclipses-on-mars/\" target=\"_self\">Curiosity Captured Two Solar Eclipses on Mars</a></div><div class=\"article_teaser_body\">Observing the Martian moons Phobos and Deimos crossing in front of the Sun helps scientists better understand their orbits.</div></div></div></li>,\n",
       " <li class=\"slide\"><div class=\"image_and_description_container\"><a href=\"/news/8424/nasas-mars-helicopter-completes-flight-tests/\" target=\"_self\"><div class=\"rollover_description\"><div class=\"rollover_description_inner\">The first helicopter to fly on Mars had its first flight on Earth.</div><div class=\"overlay_arrow\"><img alt=\"More\" src=\"/assets/overlay-arrow.png\"/></div></div><div class=\"list_image\"><img alt=\"Members of the NASA Mars Helicopter team inspect the flight model.\" src=\"/system/news_items/list_view_images/8424_PIA23155-320x240.jpg\"/></div><div class=\"bottom_gradient\"><div><h3>NASA's Mars Helicopter Completes Flight Tests</h3></div></div></a><div class=\"list_text\"><div class=\"list_date\">March 28, 2019</div><div class=\"content_title\"><a href=\"/news/8424/nasas-mars-helicopter-completes-flight-tests/\" target=\"_self\">NASA's Mars Helicopter Completes Flight Tests</a></div><div class=\"article_teaser_body\">The first helicopter to fly on Mars had its first flight on Earth.</div></div></div></li>,\n",
       " <li class=\"slide\"><div class=\"image_and_description_container\"><a href=\"/news/8423/asteroids-hydrogen-make-great-recipe-for-life-on-mars/\" target=\"_self\"><div class=\"rollover_description\"><div class=\"rollover_description_inner\">Laser blasts in lab tests suggest asteroid bombardment could have provided key ingredients for life on ancient Mars.</div><div class=\"overlay_arrow\"><img alt=\"More\" src=\"/assets/overlay-arrow.png\"/></div></div><div class=\"list_image\"><img alt=\"This self-portrait of NASA's Curiosity Mars rover shows the vehicle on Vera Rubin Ridge, which it's been investigating for the past several months. \" src=\"/system/news_items/list_view_images/8423_21472_pia22207_320.jpg\"/></div><div class=\"bottom_gradient\"><div><h3>Asteroids, Hydrogen Make Great Recipe for Life on Mars</h3></div></div></a><div class=\"list_text\"><div class=\"list_date\">March 25, 2019</div><div class=\"content_title\"><a href=\"/news/8423/asteroids-hydrogen-make-great-recipe-for-life-on-mars/\" target=\"_self\">Asteroids, Hydrogen Make Great Recipe for Life on Mars</a></div><div class=\"article_teaser_body\">Laser blasts in lab tests suggest asteroid bombardment could have provided key ingredients for life on ancient Mars.</div></div></div></li>,\n",
       " <li class=\"slide\"><div class=\"image_and_description_container\"><a href=\"/news/8422/catch-nasas-jpl-at-the-clippers-scifest-this-weekend/\" target=\"_self\"><div class=\"rollover_description\"><div class=\"rollover_description_inner\">Students and families can meet a Mars rover, take a virtual tour through our solar system and explore alien worlds with NASA's Jet Propulsion Laboratory at the Clippers SciFest SoCal.</div><div class=\"overlay_arrow\"><img alt=\"More\" src=\"/assets/overlay-arrow.png\"/></div></div><div class=\"list_image\"><img alt=\"Anya Biferno of NASA's JPL demonstrates how to find a planet outside our solar system at the USA Science and Engineering Festival in 2014.\" src=\"/system/news_items/list_view_images/8422_USASEF2019-th.jpg\"/></div><div class=\"bottom_gradient\"><div><h3>Catch NASA's JPL at the Clippers SciFest This Weekend</h3></div></div></a><div class=\"list_text\"><div class=\"list_date\">March 21, 2019</div><div class=\"content_title\"><a href=\"/news/8422/catch-nasas-jpl-at-the-clippers-scifest-this-weekend/\" target=\"_self\">Catch NASA's JPL at the Clippers SciFest This Weekend</a></div><div class=\"article_teaser_body\">Students and families can meet a Mars rover, take a virtual tour through our solar system and explore alien worlds with NASA's Jet Propulsion Laboratory at the Clippers SciFest SoCal.</div></div></div></li>,\n",
       " <li class=\"slide\"><div class=\"image_and_description_container\"><a href=\"/news/8421/nasas-mars-2020-rover-is-put-to-the-test/\" target=\"_self\"><div class=\"rollover_description\"><div class=\"rollover_description_inner\">In January, Mars 2020 engineers and technicians took over JPL's cleanroom to put the mission's cruise, entry capsule, descent stage and rover through their paces.</div><div class=\"overlay_arrow\"><img alt=\"More\" src=\"/assets/overlay-arrow.png\"/></div></div><div class=\"list_image\"><img alt=\"Technicians working Mars 2020’s System’s Test 1 approach their workstation in the Spacecraft Assembly Facility at NASA’s Jet Propulsion Laboratory\" src=\"/system/news_items/list_view_images/8421_PIA22966-320x240.jpg\"/></div><div class=\"bottom_gradient\"><div><h3>NASA's Mars 2020 Rover Is Put to the Test</h3></div></div></a><div class=\"list_text\"><div class=\"list_date\">March 19, 2019</div><div class=\"content_title\"><a href=\"/news/8421/nasas-mars-2020-rover-is-put-to-the-test/\" target=\"_self\">NASA's Mars 2020 Rover Is Put to the Test</a></div><div class=\"article_teaser_body\">In January, Mars 2020 engineers and technicians took over JPL's cleanroom to put the mission's cruise, entry capsule, descent stage and rover through their paces.</div></div></div></li>,\n",
       " <li class=\"slide\"><div class=\"image_and_description_container\"><a href=\"/news/8420/opportunitys-parting-shot-was-a-beautiful-panorama/\" target=\"_self\"><div class=\"rollover_description\"><div class=\"rollover_description_inner\">NASA declared the record-setting rover's mission complete on Feb. 13, 2019, but the final image from the rover has just been processed.</div><div class=\"overlay_arrow\"><img alt=\"More\" src=\"/assets/overlay-arrow.png\"/></div></div><div class=\"list_image\"><img alt=\"This image is a cropped version of the last 360-degree panorama taken by the Opportunity rover's Panoramic Camera (Pancam) from May 13 through June 10, 2018. The view is presented in false color to make some differences between materials easier to see.\" src=\"/system/news_items/list_view_images/8420_PIA22908-LegacyPan-False-226.jpg\"/></div><div class=\"bottom_gradient\"><div><h3>Opportunity's Parting Shot Was a Beautiful Panorama</h3></div></div></a><div class=\"list_text\"><div class=\"list_date\">March 12, 2019</div><div class=\"content_title\"><a href=\"/news/8420/opportunitys-parting-shot-was-a-beautiful-panorama/\" target=\"_self\">Opportunity's Parting Shot Was a Beautiful Panorama</a></div><div class=\"article_teaser_body\">NASA declared the record-setting rover's mission complete on Feb. 13, 2019, but the final image from the rover has just been processed.</div></div></div></li>,\n",
       " <li class=\"slide\"><div class=\"image_and_description_container\"><a href=\"/news/8416/curiosity-resumes-operations-after-switching-computers/\" target=\"_self\"><div class=\"rollover_description\"><div class=\"rollover_description_inner\">Curiosity experienced a computer reset on its Side-A computer on Wednesday, March 6, 2019 (Sol 2,339), that triggered the rover's safe mode.</div><div class=\"overlay_arrow\"><img alt=\"More\" src=\"/assets/overlay-arrow.png\"/></div></div><div class=\"list_image\"><img alt=\"NASA's Curiosity Mars took this image with its Mastcam on Feb. 10, 2019 (Sol 2316). The rover is currently exploring a region of Mount Sharp nicknamed &quot;Glen Torridon&quot; that has lots of clay minerals.\" src=\"/system/news_items/list_view_images/8416_PIA23047-th.jpg\"/></div><div class=\"bottom_gradient\"><div><h3>Curiosity Resumes Operations After Switching Computers</h3></div></div></a><div class=\"list_text\"><div class=\"list_date\">March 12, 2019</div><div class=\"content_title\"><a href=\"/news/8416/curiosity-resumes-operations-after-switching-computers/\" target=\"_self\">Curiosity Resumes Operations After Switching Computers</a></div><div class=\"article_teaser_body\">Curiosity experienced a computer reset on its Side-A computer on Wednesday, March 6, 2019 (Sol 2,339), that triggered the rover's safe mode.</div></div></div></li>,\n",
       " <li class=\"slide\"><div class=\"image_and_description_container\"><a href=\"/news/8417/insight-lands-praise-and-a-proclamation-from-la-county/\" target=\"_self\"><div class=\"rollover_description\"><div class=\"rollover_description_inner\">Several members of the Mars InSight team accepted a proclamation on behalf of the mission from L.A. County Board of Supervisors on Tuesday, Feb. 19.</div><div class=\"overlay_arrow\"><img alt=\"More\" src=\"/assets/overlay-arrow.png\"/></div></div><div class=\"list_image\"><img alt=\"L.A. County Supervisor Kathryn Barger (center) presented the proclamation to the InSight team, represented by (left to right) Chuck Scott, Tom Hoffman, Bruce Banerdt, Pilar Leon and Christine Szalai. \" src=\"/system/news_items/list_view_images/8417_insight20190225-th.jpg\"/></div><div class=\"bottom_gradient\"><div><h3>InSight Lands Praise and a Proclamation from LA County</h3></div></div></a><div class=\"list_text\"><div class=\"list_date\">February 25, 2019</div><div class=\"content_title\"><a href=\"/news/8417/insight-lands-praise-and-a-proclamation-from-la-county/\" target=\"_self\">InSight Lands Praise and a Proclamation from LA County</a></div><div class=\"article_teaser_body\">Several members of the Mars InSight team accepted a proclamation on behalf of the mission from L.A. County Board of Supervisors on Tuesday, Feb. 19.</div></div></div></li>,\n",
       " <li class=\"slide\"><div class=\"image_and_description_container\"><a href=\"/news/8415/insight-is-the-newest-mars-weather-service/\" target=\"_self\"><div class=\"rollover_description\"><div class=\"rollover_description_inner\">By collecting data around the clock, NASA's lander will provide unique science about the Martian surface.</div><div class=\"overlay_arrow\"><img alt=\"More\" src=\"/assets/overlay-arrow.png\"/></div></div><div class=\"list_image\"><img alt=\"The white east- and west-facing booms — called Temperature and Wind for InSight, or TWINS — on the deck of NASA's InSight lander belong to its suite of weather sensors.\" src=\"/system/news_items/list_view_images/8415_PIA22876-th.jpg\"/></div><div class=\"bottom_gradient\"><div><h3>InSight Is the Newest Mars Weather Service</h3></div></div></a><div class=\"list_text\"><div class=\"list_date\">February 19, 2019</div><div class=\"content_title\"><a href=\"/news/8415/insight-is-the-newest-mars-weather-service/\" target=\"_self\">InSight Is the Newest Mars Weather Service</a></div><div class=\"article_teaser_body\">By collecting data around the clock, NASA's lander will provide unique science about the Martian surface.</div></div></div></li>,\n",
       " <li class=\"slide\"><div class=\"image_and_description_container\"><a href=\"/news/8414/six-things-to-know-about-nasas-opportunity-rover/\" target=\"_self\"><div class=\"rollover_description\"><div class=\"rollover_description_inner\">Opportunity's mission is complete. Here are highlights from its time on Mars.</div><div class=\"overlay_arrow\"><img alt=\"More\" src=\"/assets/overlay-arrow.png\"/></div></div><div class=\"list_image\"><img alt=\"This scene from the panoramic camera on NASA's Mars Exploration Rover Opportunity looks back toward part of the west rim of Endeavour Crater that the rover drove along, heading southward, during the summer of 2014. \" src=\"/system/news_items/list_view_images/8414_1_MAIN_th.jpg\"/></div><div class=\"bottom_gradient\"><div><h3>Six Things to Know About NASA's Opportunity Rover</h3></div></div></a><div class=\"list_text\"><div class=\"list_date\">February 13, 2019</div><div class=\"content_title\"><a href=\"/news/8414/six-things-to-know-about-nasas-opportunity-rover/\" target=\"_self\">Six Things to Know About NASA's Opportunity Rover</a></div><div class=\"article_teaser_body\">Opportunity's mission is complete. Here are highlights from its time on Mars.</div></div></div></li>,\n",
       " <li class=\"slide\"><div class=\"image_and_description_container\"><a href=\"/news/8413/nasas-opportunity-rover-mission-on-mars-comes-to-end/\" target=\"_self\"><div class=\"rollover_description\"><div class=\"rollover_description_inner\">NASA's Opportunity Mars rover mission is complete after 15 years on Mars. Opportunity's record-breaking exploration laid the groundwork for future missions to the Red Planet.</div><div class=\"overlay_arrow\"><img alt=\"More\" src=\"/assets/overlay-arrow.png\"/></div></div><div class=\"list_image\"><img alt=\"Opportunity Catches its Shadow\" src=\"/system/news_items/list_view_images/8413_PIA06739-320x240.jpg\"/></div><div class=\"bottom_gradient\"><div><h3>NASA's Opportunity Rover Mission on Mars Comes to End</h3></div></div></a><div class=\"list_text\"><div class=\"list_date\">February 13, 2019</div><div class=\"content_title\"><a href=\"/news/8413/nasas-opportunity-rover-mission-on-mars-comes-to-end/\" target=\"_self\">NASA's Opportunity Rover Mission on Mars Comes to End</a></div><div class=\"article_teaser_body\">NASA's Opportunity Mars rover mission is complete after 15 years on Mars. Opportunity's record-breaking exploration laid the groundwork for future missions to the Red Planet.</div></div></div></li>,\n",
       " <li class=\"slide\"><div class=\"image_and_description_container\"><a href=\"/news/8412/nasas-insight-prepares-to-take-mars-temperature/\" target=\"_self\"><div class=\"rollover_description\"><div class=\"rollover_description_inner\">The lander's second instrument is on the ground. But its ‘mole’ — a burrowing probe — has a long way to go.</div><div class=\"overlay_arrow\"><img alt=\"More\" src=\"/assets/overlay-arrow.png\"/></div></div><div class=\"list_image\"><img alt=\"NASA's InSight lander set its heat probe, called the Heat and Physical Properties Package (HP3), on the Martian surface on Feb. 12.\" src=\"/system/news_items/list_view_images/8412_PIA23046-320x240.jpg\"/></div><div class=\"bottom_gradient\"><div><h3>NASA's InSight Prepares to Take Mars' Temperature</h3></div></div></a><div class=\"list_text\"><div class=\"list_date\">February 13, 2019</div><div class=\"content_title\"><a href=\"/news/8412/nasas-insight-prepares-to-take-mars-temperature/\" target=\"_self\">NASA's InSight Prepares to Take Mars' Temperature</a></div><div class=\"article_teaser_body\">The lander's second instrument is on the ground. But its ‘mole’ — a burrowing probe — has a long way to go.</div></div></div></li>,\n",
       " <li class=\"slide\"><div class=\"image_and_description_container\"><a href=\"/news/8411/nasa-to-share-results-of-effort-to-recover-mars-rover/\" target=\"_self\"><div class=\"rollover_description\"><div class=\"rollover_description_inner\">NASA will discuss the status of its Mars Exploration Rover Opportunity in a media briefing at 11 a.m. PST (2 p.m. EST) Wednesday, Feb. 13, from the Jet Propulsion Laboratory.</div><div class=\"overlay_arrow\"><img alt=\"More\" src=\"/assets/overlay-arrow.png\"/></div></div><div class=\"list_image\"><img alt=\"An artist's concept portrays a NASA Mars Exploration Rover on the surface of Mars. Two rovers were launched in 2003 and arrived at sites on Mars in January 2004. Each rover was built to have the mobility and toolkit for functioning as a robotic geologist.\" src=\"/system/news_items/list_view_images/8411_3904_PIA04413a-th.jpg\"/></div><div class=\"bottom_gradient\"><div><h3>NASA to Share Results of Effort to Recover Mars Rover</h3></div></div></a><div class=\"list_text\"><div class=\"list_date\">February 12, 2019</div><div class=\"content_title\"><a href=\"/news/8411/nasa-to-share-results-of-effort-to-recover-mars-rover/\" target=\"_self\">NASA to Share Results of Effort to Recover Mars Rover</a></div><div class=\"article_teaser_body\">NASA will discuss the status of its Mars Exploration Rover Opportunity in a media briefing at 11 a.m. PST (2 p.m. EST) Wednesday, Feb. 13, from the Jet Propulsion Laboratory.</div></div></div></li>,\n",
       " <li class=\"slide\"><div class=\"image_and_description_container\"><a href=\"/news/8410/nasas-maven-spacecraft-shrinking-its-mars-orbit-to-prepare-for-mars-2020-rover/\" target=\"_self\"><div class=\"rollover_description\"><div class=\"rollover_description_inner\">The MAVEN spacecraft today is starting a campaign to tighten its orbit around Mars to prepare to serve as a data-relay satellite for NASA’s Mars 2020 rover, which launches next year.</div><div class=\"overlay_arrow\"><img alt=\"More\" src=\"/assets/overlay-arrow.png\"/></div></div><div class=\"list_image\"><img alt=\"Aerobraking plan for MAVEN\" src=\"/system/news_items/list_view_images/8410_mavennotext-th.jpg\"/></div><div class=\"bottom_gradient\"><div><h3>NASA's MAVEN Spacecraft Shrinking its Mars Orbit to Prepare for Mars 2020 Rover</h3></div></div></a><div class=\"list_text\"><div class=\"list_date\">February 11, 2019</div><div class=\"content_title\"><a href=\"/news/8410/nasas-maven-spacecraft-shrinking-its-mars-orbit-to-prepare-for-mars-2020-rover/\" target=\"_self\">NASA's MAVEN Spacecraft Shrinking its Mars Orbit to Prepare for Mars 2020 Rover</a></div><div class=\"article_teaser_body\">The MAVEN spacecraft today is starting a campaign to tighten its orbit around Mars to prepare to serve as a data-relay satellite for NASA’s Mars 2020 rover, which launches next year.</div></div></div></li>,\n",
       " <li class=\"slide\"><div class=\"image_and_description_container\"><a href=\"/news/8409/360-video-curiosity-rover-departs-vera-rubin-ridge/\" target=\"_self\"><div class=\"rollover_description\"><div class=\"rollover_description_inner\">This panorama from the Mast Camera (Mastcam) on NASA's Curiosity Mars rover was taken on Dec. 19 (Sol 2265). The rover's last drill location on Vera Rubin Ridge is visible, as well as the clay region it will spend the next year exploring.</div><div class=\"overlay_arrow\"><img alt=\"More\" src=\"/assets/overlay-arrow.png\"/></div></div><div class=\"list_image\"><img alt=\"\" src=\"/system/news_items/list_view_images/8409_22288_PIA23042-320x240.jpg\"/></div><div class=\"bottom_gradient\"><div><h3>360 Video: Curiosity Rover Departs Vera Rubin Ridge</h3></div></div></a><div class=\"list_text\"><div class=\"list_date\">February  8, 2019</div><div class=\"content_title\"><a href=\"/news/8409/360-video-curiosity-rover-departs-vera-rubin-ridge/\" target=\"_self\">360 Video: Curiosity Rover Departs Vera Rubin Ridge</a></div><div class=\"article_teaser_body\">This panorama from the Mast Camera (Mastcam) on NASA's Curiosity Mars rover was taken on Dec. 19 (Sol 2265). The rover's last drill location on Vera Rubin Ridge is visible, as well as the clay region it will spend the next year exploring.</div></div></div></li>,\n",
       " <li class=\"slide\"><div class=\"image_and_description_container\"><a href=\"/news/8408/beyond-mars-the-mini-marco-spacecraft-fall-silent/\" target=\"_self\"><div class=\"rollover_description\"><div class=\"rollover_description_inner\">The first CubeSat mission to deep space may have reached their limit, but they could inspire future NASA missions.</div><div class=\"overlay_arrow\"><img alt=\"More\" src=\"/assets/overlay-arrow.png\"/></div></div><div class=\"list_image\"><img alt=\"MarCO-B, one of the experimental Mars Cube One (MarCO) CubeSats, took these images as it approached Mars.\" src=\"/system/news_items/list_view_images/8408_22206_PIA22655-th.gif\"/></div><div class=\"bottom_gradient\"><div><h3>Beyond Mars, the Mini MarCO Spacecraft Fall Silent</h3></div></div></a><div class=\"list_text\"><div class=\"list_date\">February  5, 2019</div><div class=\"content_title\"><a href=\"/news/8408/beyond-mars-the-mini-marco-spacecraft-fall-silent/\" target=\"_self\">Beyond Mars, the Mini MarCO Spacecraft Fall Silent</a></div><div class=\"article_teaser_body\">The first CubeSat mission to deep space may have reached their limit, but they could inspire future NASA missions.</div></div></div></li>,\n",
       " <li class=\"slide\"><div class=\"image_and_description_container\"><a href=\"/news/8407/insights-seismometer-now-has-a-cozy-shelter-on-mars/\" target=\"_self\"><div class=\"rollover_description\"><div class=\"rollover_description_inner\">A domed shield has been set over one of InSight's primary science instruments, protecting it from Mars' wind and temperature changes.</div><div class=\"overlay_arrow\"><img alt=\"More\" src=\"/assets/overlay-arrow.png\"/></div></div><div class=\"list_image\"><img alt=\"NASA's InSight lander deployed its Wind and Thermal Shield on Feb. 2 (Sol 66). The shield covers InSight's seismometer, which was set down onto the Martian surface on Dec. 19.\" src=\"/system/news_items/list_view_images/8407_PIA22959-th.jpg\"/></div><div class=\"bottom_gradient\"><div><h3>InSight's Seismometer Now Has a Cozy Shelter on Mars</h3></div></div></a><div class=\"list_text\"><div class=\"list_date\">February  4, 2019</div><div class=\"content_title\"><a href=\"/news/8407/insights-seismometer-now-has-a-cozy-shelter-on-mars/\" target=\"_self\">InSight's Seismometer Now Has a Cozy Shelter on Mars</a></div><div class=\"article_teaser_body\">A domed shield has been set over one of InSight's primary science instruments, protecting it from Mars' wind and temperature changes.</div></div></div></li>,\n",
       " <li class=\"slide\"><div class=\"image_and_description_container\"><a href=\"/news/8406/mars-buggy-curiosity-measures-a-mountains-gravity/\" target=\"_self\"><div class=\"rollover_description\"><div class=\"rollover_description_inner\">Smartphone-like sensors on the NASA rover were used to calculate the density of Mount Sharp, offering new clues to its formation.</div><div class=\"overlay_arrow\"><img alt=\"More\" src=\"/assets/overlay-arrow.png\"/></div></div><div class=\"list_image\"><img alt=\"Side-by-side images depict NASA's Curiosity rover (left) and a moon buggy driven during the Apollo 16 mission. \" src=\"/system/news_items/list_view_images/8406_marsrover-lunarrover-th.gif\"/></div><div class=\"bottom_gradient\"><div><h3>\"Mars Buggy\" Curiosity Measures a Mountain's Gravity</h3></div></div></a><div class=\"list_text\"><div class=\"list_date\">January 31, 2019</div><div class=\"content_title\"><a href=\"/news/8406/mars-buggy-curiosity-measures-a-mountains-gravity/\" target=\"_self\">\"Mars Buggy\" Curiosity Measures a Mountain's Gravity</a></div><div class=\"article_teaser_body\">Smartphone-like sensors on the NASA rover were used to calculate the density of Mount Sharp, offering new clues to its formation.</div></div></div></li>,\n",
       " <li class=\"slide\"><div class=\"image_and_description_container\"><a href=\"/news/8405/curiosity-says-farewell-to-mars-vera-rubin-ridge/\" target=\"_self\"><div class=\"rollover_description\"><div class=\"rollover_description_inner\">The Mars rover is moving on and has taken its last selfie on the ridge it's explored for more than a year.</div><div class=\"overlay_arrow\"><img alt=\"More\" src=\"/assets/overlay-arrow.png\"/></div></div><div class=\"list_image\"><img alt=\"\" src=\"/system/news_items/list_view_images/8405_PIA22960-th.jpg\"/></div><div class=\"bottom_gradient\"><div><h3>Curiosity Says Farewell to Mars' Vera Rubin Ridge</h3></div></div></a><div class=\"list_text\"><div class=\"list_date\">January 28, 2019</div><div class=\"content_title\"><a href=\"/news/8405/curiosity-says-farewell-to-mars-vera-rubin-ridge/\" target=\"_self\">Curiosity Says Farewell to Mars' Vera Rubin Ridge</a></div><div class=\"article_teaser_body\">The Mars rover is moving on and has taken its last selfie on the ridge it's explored for more than a year.</div></div></div></li>,\n",
       " <li class=\"slide\"><div class=\"image_and_description_container\"><a href=\"/news/8404/rover-team-beaming-new-commands-to-opportunity-on-mars/\" target=\"_self\"><div class=\"rollover_description\"><div class=\"rollover_description_inner\">Engineers at JPL have begun transmitting a new set of commands to Opportunity in an attempt to compel the Mars rover to contact Earth.</div><div class=\"overlay_arrow\"><img alt=\"More\" src=\"/assets/overlay-arrow.png\"/></div></div><div class=\"list_image\"><img alt=\"A Goldstone 111.5-foot (34-meter) beam-waveguide antenna tracks a spacecraft as it comes into view. The Goldstone Deep Space Communications Complex is located in the Mojave Desert in California.\" src=\"/system/news_items/list_view_images/8404_PIA17791-th.jpg\"/></div><div class=\"bottom_gradient\"><div><h3>Rover Team Beaming New Commands to Opportunity on Mars</h3></div></div></a><div class=\"list_text\"><div class=\"list_date\">January 25, 2019</div><div class=\"content_title\"><a href=\"/news/8404/rover-team-beaming-new-commands-to-opportunity-on-mars/\" target=\"_self\">Rover Team Beaming New Commands to Opportunity on Mars</a></div><div class=\"article_teaser_body\">Engineers at JPL have begun transmitting a new set of commands to Opportunity in an attempt to compel the Mars rover to contact Earth.</div></div></div></li>,\n",
       " <li class=\"slide\"><div class=\"image_and_description_container\"><a href=\"/news/8403/nasas-opportunity-rover-logs-15-years-on-mars/\" target=\"_self\"><div class=\"rollover_description\"><div class=\"rollover_description_inner\">The rover landed in a region of the Red Planet called Meridiani Planum 16 years ago today, on Jan. 24, 2004.</div><div class=\"overlay_arrow\"><img alt=\"More\" src=\"/assets/overlay-arrow.png\"/></div></div><div class=\"list_image\"><img alt=\"An artist's concept portrays a NASA Mars Exploration Rover on the surface of Mars. Credit: NASA/JPL/Cornell University.\" src=\"/system/news_items/list_view_images/8403_PIA04413a-thmfeat.jpg\"/></div><div class=\"bottom_gradient\"><div><h3>NASA's Opportunity Rover Logs 15 Years on Mars</h3></div></div></a><div class=\"list_text\"><div class=\"list_date\">January 24, 2019</div><div class=\"content_title\"><a href=\"/news/8403/nasas-opportunity-rover-logs-15-years-on-mars/\" target=\"_self\">NASA's Opportunity Rover Logs 15 Years on Mars</a></div><div class=\"article_teaser_body\">The rover landed in a region of the Red Planet called Meridiani Planum 16 years ago today, on Jan. 24, 2004.</div></div></div></li>,\n",
       " <li class=\"slide\"><div class=\"image_and_description_container\"><a href=\"/news/8402/nasas-insight-places-first-instrument-on-mars/\" target=\"_self\"><div class=\"rollover_description\"><div class=\"rollover_description_inner\">In deploying its first instrument onto the surface of Mars, the lander completes a major mission milestone.</div><div class=\"overlay_arrow\"><img alt=\"More\" src=\"/assets/overlay-arrow.png\"/></div></div><div class=\"list_image\"><img alt=\"\" src=\"/system/news_items/list_view_images/8402_PIA22977_SEIS_deploy_IDC_calibrated-th.gif\"/></div><div class=\"bottom_gradient\"><div><h3>NASA's InSight Places First Instrument on Mars</h3></div></div></a><div class=\"list_text\"><div class=\"list_date\">December 19, 2018</div><div class=\"content_title\"><a href=\"/news/8402/nasas-insight-places-first-instrument-on-mars/\" target=\"_self\">NASA's InSight Places First Instrument on Mars</a></div><div class=\"article_teaser_body\">In deploying its first instrument onto the surface of Mars, the lander completes a major mission milestone.</div></div></div></li>,\n",
       " <li class=\"slide\"><div class=\"image_and_description_container\"><a href=\"/news/8401/insight-engineers-have-made-a-martian-rock-garden/\" target=\"_self\"><div class=\"rollover_description\"><div class=\"rollover_description_inner\">Reconstructing Mars here on Earth lets them practice setting down the lander's science instruments.</div><div class=\"overlay_arrow\"><img alt=\"More\" src=\"/assets/overlay-arrow.png\"/></div></div><div class=\"list_image\"><img alt=\"Engineers practice deploying InSight's instruments in a lab at NASA's Jet Propulsion Laboratory in Pasadena, California. Several of them are wearing sunglasses to block the bright yellow lights in the test space, which mimic sunlight as it appears on Mars.\" src=\"/system/news_items/list_view_images/8401_PIA22744-th.jpg\"/></div><div class=\"bottom_gradient\"><div><h3>InSight Engineers Have Made a Martian Rock Garden</h3></div></div></a><div class=\"list_text\"><div class=\"list_date\">December 18, 2018</div><div class=\"content_title\"><a href=\"/news/8401/insight-engineers-have-made-a-martian-rock-garden/\" target=\"_self\">InSight Engineers Have Made a Martian Rock Garden</a></div><div class=\"article_teaser_body\">Reconstructing Mars here on Earth lets them practice setting down the lander's science instruments.</div></div></div></li>,\n",
       " <li class=\"slide\"><div class=\"image_and_description_container\"><a href=\"/news/8400/mars-insight-lander-seen-in-first-images-from-space/\" target=\"_self\"><div class=\"rollover_description\"><div class=\"rollover_description_inner\">Look closely, and you can make out the lander's solar panels.</div><div class=\"overlay_arrow\"><img alt=\"More\" src=\"/assets/overlay-arrow.png\"/></div></div><div class=\"list_image\"><img alt=\"NASA's InSight spacecraft, its heat shield and its parachute were imaged on Dec. 6 and 11 by the HiRISE camera onboard NASA's Mars Reconnaissance Orbiter.\" src=\"/system/news_items/list_view_images/8400_PIA22875-16_320.png\"/></div><div class=\"bottom_gradient\"><div><h3>Mars InSight Lander Seen in First Images from Space </h3></div></div></a><div class=\"list_text\"><div class=\"list_date\">December 13, 2018</div><div class=\"content_title\"><a href=\"/news/8400/mars-insight-lander-seen-in-first-images-from-space/\" target=\"_self\">Mars InSight Lander Seen in First Images from Space </a></div><div class=\"article_teaser_body\">Look closely, and you can make out the lander's solar panels.</div></div></div></li>,\n",
       " <li class=\"slide\"><div class=\"image_and_description_container\"><a href=\"/news/8398/nasas-insight-takes-its-first-selfie/\" target=\"_self\"><div class=\"rollover_description\"><div class=\"rollover_description_inner\">Two new image mosaics detail the lander's deck and \"workspace\" — the surface where it will eventually set down its science instruments.</div><div class=\"overlay_arrow\"><img alt=\"More\" src=\"/assets/overlay-arrow.png\"/></div></div><div class=\"list_image\"><img alt=\"This is NASA InSight's first full selfie on Mars. It displays the lander's solar panels and deck. On top of the deck are its science instruments, weather sensor booms and UHF antenna.\" src=\"/system/news_items/list_view_images/8398_PIA22876_320.png\"/></div><div class=\"bottom_gradient\"><div><h3>NASA's InSight Takes Its First Selfie</h3></div></div></a><div class=\"list_text\"><div class=\"list_date\">December 11, 2018</div><div class=\"content_title\"><a href=\"/news/8398/nasas-insight-takes-its-first-selfie/\" target=\"_self\">NASA's InSight Takes Its First Selfie</a></div><div class=\"article_teaser_body\">Two new image mosaics detail the lander's deck and \"workspace\" — the surface where it will eventually set down its science instruments.</div></div></div></li>,\n",
       " <li class=\"slide\"><div class=\"image_and_description_container\"><a href=\"/news/8397/nasa-insight-lander-hears-martian-winds/\" target=\"_self\"><div class=\"rollover_description\"><div class=\"rollover_description_inner\">Vibrations picked up by two spacecraft instruments have provided the first sounds of Martian wind.</div><div class=\"overlay_arrow\"><img alt=\"More\" src=\"/assets/overlay-arrow.png\"/></div></div><div class=\"list_image\"><img alt=\"One of InSight's 7-foot (2.2 meter) wide solar panels was imaged by the lander's Instrument Deployment Camera, which is fixed to the elbow of its robotic arm. \" src=\"/system/news_items/list_view_images/8397_1_PIA22736-th.jpg\"/></div><div class=\"bottom_gradient\"><div><h3>NASA InSight Lander 'Hears' Martian Winds </h3></div></div></a><div class=\"list_text\"><div class=\"list_date\">December  7, 2018</div><div class=\"content_title\"><a href=\"/news/8397/nasa-insight-lander-hears-martian-winds/\" target=\"_self\">NASA InSight Lander 'Hears' Martian Winds </a></div><div class=\"article_teaser_body\">Vibrations picked up by two spacecraft instruments have provided the first sounds of Martian wind.</div></div></div></li>,\n",
       " <li class=\"slide\"><div class=\"image_and_description_container\"><a href=\"/news/8396/nasas-mars-insight-flexes-its-arm/\" target=\"_self\"><div class=\"rollover_description\"><div class=\"rollover_description_inner\">Now unstowed, the spacecraft's robotic arm will point a camera located on its elbow and take images of the surroundings.</div><div class=\"overlay_arrow\"><img alt=\"More\" src=\"/assets/overlay-arrow.png\"/></div></div><div class=\"list_image\"><img alt=\"InSight's robotic-arm mounted Instrument Deployment Camera shows the instruments on the spacecraft's deck.\" src=\"/system/news_items/list_view_images/8396_PIA22871-th.jpg\"/></div><div class=\"bottom_gradient\"><div><h3>NASA's Mars InSight Flexes Its Arm</h3></div></div></a><div class=\"list_text\"><div class=\"list_date\">December  6, 2018</div><div class=\"content_title\"><a href=\"/news/8396/nasas-mars-insight-flexes-its-arm/\" target=\"_self\">NASA's Mars InSight Flexes Its Arm</a></div><div class=\"article_teaser_body\">Now unstowed, the spacecraft's robotic arm will point a camera located on its elbow and take images of the surroundings.</div></div></div></li>,\n",
       " <li class=\"slide\"><div class=\"image_and_description_container\"><a href=\"/news/8395/mars-new-home-a-large-sandbox/\" target=\"_self\"><div class=\"rollover_description\"><div class=\"rollover_description_inner\">With InSight safely on the surface of Mars, the mission team is busy learning more about the spacecraft's landing site.</div><div class=\"overlay_arrow\"><img alt=\"More\" src=\"/assets/overlay-arrow.png\"/></div></div><div class=\"list_image\"><img alt=\"NASA’s InSight spacecraft flipped open the lens cover on its Instrument Context Camera (ICC) on Nov. 30, 2018, and captured this view of Mars.\" src=\"/system/news_items/list_view_images/8395_ICCDustCoverOff_C000M0004_596888328EDR_F0000_0461M1_320.png\"/></div><div class=\"bottom_gradient\"><div><h3>Mars New Home 'a Large Sandbox'</h3></div></div></a><div class=\"list_text\"><div class=\"list_date\">November 30, 2018</div><div class=\"content_title\"><a href=\"/news/8395/mars-new-home-a-large-sandbox/\" target=\"_self\">Mars New Home 'a Large Sandbox'</a></div><div class=\"article_teaser_body\">With InSight safely on the surface of Mars, the mission team is busy learning more about the spacecraft's landing site.</div></div></div></li>,\n",
       " <li class=\"slide\"><div class=\"image_and_description_container\"><a href=\"/news/8394/nasa-hears-marco-cubesats-loud-and-clear-from-mars/\" target=\"_self\"><div class=\"rollover_description\"><div class=\"rollover_description_inner\">A pair of tiny, experimental spacecraft fulfilled their mission yesterday, relaying back near-real-time data during InSight's landing.</div><div class=\"overlay_arrow\"><img alt=\"More\" src=\"/assets/overlay-arrow.png\"/></div></div><div class=\"list_image\"><img alt=\"MarCO-B took this image of Mars from about 4,700 miles (7,600 kilometers) away during its flyby of Mars on Nov. 26, 2018.\" src=\"/system/news_items/list_view_images/8394_MarCOfarewell_320.jpg\"/></div><div class=\"bottom_gradient\"><div><h3>NASA Hears MarCO CubeSats Loud and Clear from Mars </h3></div></div></a><div class=\"list_text\"><div class=\"list_date\">November 27, 2018</div><div class=\"content_title\"><a href=\"/news/8394/nasa-hears-marco-cubesats-loud-and-clear-from-mars/\" target=\"_self\">NASA Hears MarCO CubeSats Loud and Clear from Mars </a></div><div class=\"article_teaser_body\">A pair of tiny, experimental spacecraft fulfilled their mission yesterday, relaying back near-real-time data during InSight's landing.</div></div></div></li>,\n",
       " <li class=\"slide\"><div class=\"image_and_description_container\"><a href=\"/news/8393/insight-is-catching-rays-on-mars/\" target=\"_self\"><div class=\"rollover_description\"><div class=\"rollover_description_inner\">The lander has sent data indicating its solar panels are open and receiving sunlight to power its surface operations.</div><div class=\"overlay_arrow\"><img alt=\"More\" src=\"/assets/overlay-arrow.png\"/></div></div><div class=\"list_image\"><img alt=\"The Instrument Deployment Camera (IDC), located on the robotic arm of NASA's InSight lander, took this photo on the surface of Mars.\" src=\"/system/news_items/list_view_images/8393_D000M0000_596535424EDR_F0000_0106M1-stretch_320.jpg\"/></div><div class=\"bottom_gradient\"><div><h3>InSight Is Catching Rays on Mars</h3></div></div></a><div class=\"list_text\"><div class=\"list_date\">November 26, 2018</div><div class=\"content_title\"><a href=\"/news/8393/insight-is-catching-rays-on-mars/\" target=\"_self\">InSight Is Catching Rays on Mars</a></div><div class=\"article_teaser_body\">The lander has sent data indicating its solar panels are open and receiving sunlight to power its surface operations.</div></div></div></li>,\n",
       " <li class=\"slide\"><div class=\"image_and_description_container\"><a href=\"/news/8392/nasa-insight-lander-arrives-on-martian-surface/\" target=\"_self\"><div class=\"rollover_description\"><div class=\"rollover_description_inner\">The touchdown marks the eighth time NASA has successfully landed a spacecraft on Mars.</div><div class=\"overlay_arrow\"><img alt=\"More\" src=\"/assets/overlay-arrow.png\"/></div></div><div class=\"list_image\"><img alt=\"The NASA InSight team reacts after receiving confirmation that the spacecraft successfully touched down on the surface of Mars.\" src=\"/system/news_items/list_view_images/8392_touchdown_320.jpg\"/></div><div class=\"bottom_gradient\"><div><h3>NASA InSight Lander Arrives on Martian Surface </h3></div></div></a><div class=\"list_text\"><div class=\"list_date\">November 26, 2018</div><div class=\"content_title\"><a href=\"/news/8392/nasa-insight-lander-arrives-on-martian-surface/\" target=\"_self\">NASA InSight Lander Arrives on Martian Surface </a></div><div class=\"article_teaser_body\">The touchdown marks the eighth time NASA has successfully landed a spacecraft on Mars.</div></div></div></li>,\n",
       " <li class=\"slide\"><div class=\"image_and_description_container\"><a href=\"/news/8391/landing-day-for-insight/\" target=\"_self\"><div class=\"rollover_description\"><div class=\"rollover_description_inner\">NASA's InSight spacecraft is on target for Mars landing at around noon PST today.</div><div class=\"overlay_arrow\"><img alt=\"More\" src=\"/assets/overlay-arrow.png\"/></div></div><div class=\"list_image\"><img alt=\"The InSight spacecraft approaches Mars in this artist’s concept.\" src=\"/system/news_items/list_view_images/8391_PIA22099-16_320.jpg\"/></div><div class=\"bottom_gradient\"><div><h3>Landing Day for InSight</h3></div></div></a><div class=\"list_text\"><div class=\"list_date\">November 25, 2018</div><div class=\"content_title\"><a href=\"/news/8391/landing-day-for-insight/\" target=\"_self\">Landing Day for InSight</a></div><div class=\"article_teaser_body\">NASA's InSight spacecraft is on target for Mars landing at around noon PST today.</div></div></div></li>,\n",
       " <li class=\"slide\"><div class=\"image_and_description_container\"><a href=\"/news/8390/nasa-insight-landing-on-mars-milestones/\" target=\"_self\"><div class=\"rollover_description\"><div class=\"rollover_description_inner\">On Nov. 26, NASA's InSight spacecraft will blaze through the Martian atmosphere and set a lander gently on the surface in less time than it takes to cook a hard-boiled egg.</div><div class=\"overlay_arrow\"><img alt=\"More\" src=\"/assets/overlay-arrow.png\"/></div></div><div class=\"list_image\"><img alt=\"This illustration shows a simulated view of NASA's InSight lander descending towards the surface of Mars on its parachute.\" src=\"/system/news_items/list_view_images/8390_PIA22809-th.jpg\"/></div><div class=\"bottom_gradient\"><div><h3>NASA InSight Landing on Mars: Milestones</h3></div></div></a><div class=\"list_text\"><div class=\"list_date\">November 21, 2018</div><div class=\"content_title\"><a href=\"/news/8390/nasa-insight-landing-on-mars-milestones/\" target=\"_self\">NASA InSight Landing on Mars: Milestones</a></div><div class=\"article_teaser_body\">On Nov. 26, NASA's InSight spacecraft will blaze through the Martian atmosphere and set a lander gently on the surface in less time than it takes to cook a hard-boiled egg.</div></div></div></li>,\n",
       " <li class=\"slide\"><div class=\"image_and_description_container\"><a href=\"/news/8389/nasa-insight-team-on-course-for-mars-touchdown/\" target=\"_self\"><div class=\"rollover_description\"><div class=\"rollover_description_inner\">NASA's Mars InSight spacecraft is on track for a soft touchdown on the surface of the Red Planet on Nov. 26.</div><div class=\"overlay_arrow\"><img alt=\"More\" src=\"/assets/overlay-arrow.png\"/></div></div><div class=\"list_image\"><img alt=\"\" src=\"/system/news_items/list_view_images/8389_PIA22100_320.jpg\"/></div><div class=\"bottom_gradient\"><div><h3>NASA InSight Team on Course for Mars Touchdown</h3></div></div></a><div class=\"list_text\"><div class=\"list_date\">November 21, 2018</div><div class=\"content_title\"><a href=\"/news/8389/nasa-insight-team-on-course-for-mars-touchdown/\" target=\"_self\">NASA InSight Team on Course for Mars Touchdown</a></div><div class=\"article_teaser_body\">NASA's Mars InSight spacecraft is on track for a soft touchdown on the surface of the Red Planet on Nov. 26.</div></div></div></li>,\n",
       " <li class=\"slide\"><div class=\"image_and_description_container\"><a href=\"/news/8388/what-two-planetary-siblings-can-teach-us-about-life/\" target=\"_self\"><div class=\"rollover_description\"><div class=\"rollover_description_inner\">In studying Mars, NASA's InSight will reveal what makes one planet more or less suitable for life than another.</div><div class=\"overlay_arrow\"><img alt=\"More\" src=\"/assets/overlay-arrow.png\"/></div></div><div class=\"list_image\"><img alt=\"This composite image of Earth and Mars was created to allow viewers to gain a better understanding of the relative sizes of the two planets.\" src=\"/system/news_items/list_view_images/8388_20030728_marsClose02_320.jpg\"/></div><div class=\"bottom_gradient\"><div><h3>What Two Planetary Siblings Can Teach Us About Life</h3></div></div></a><div class=\"list_text\"><div class=\"list_date\">November 20, 2018</div><div class=\"content_title\"><a href=\"/news/8388/what-two-planetary-siblings-can-teach-us-about-life/\" target=\"_self\">What Two Planetary Siblings Can Teach Us About Life</a></div><div class=\"article_teaser_body\">In studying Mars, NASA's InSight will reveal what makes one planet more or less suitable for life than another.</div></div></div></li>,\n",
       " <li class=\"slide\"><div class=\"image_and_description_container\"><a href=\"/news/8387/nasa-announces-landing-site-for-mars-2020-rover/\" target=\"_self\"><div class=\"rollover_description\"><div class=\"rollover_description_inner\">After a five-year search, NASA has chosen Jezero Crater as the landing site for its upcoming Mars 2020 rover mission.</div><div class=\"overlay_arrow\"><img alt=\"More\" src=\"/assets/overlay-arrow.png\"/></div></div><div class=\"list_image\"><img alt=\"On ancient Mars, water carved channels and transported sediments to form fans and deltas within lake basins. \" src=\"/system/news_items/list_view_images/8387_JezeroCrater-320x240.jpg\"/></div><div class=\"bottom_gradient\"><div><h3>NASA Announces Landing Site for Mars 2020 Rover</h3></div></div></a><div class=\"list_text\"><div class=\"list_date\">November 19, 2018</div><div class=\"content_title\"><a href=\"/news/8387/nasa-announces-landing-site-for-mars-2020-rover/\" target=\"_self\">NASA Announces Landing Site for Mars 2020 Rover</a></div><div class=\"article_teaser_body\">After a five-year search, NASA has chosen Jezero Crater as the landing site for its upcoming Mars 2020 rover mission.</div></div></div></li>]"
      ]
     },
     "execution_count": 31,
     "metadata": {},
     "output_type": "execute_result"
    }
   ],
   "source": [
    "#Create BeautifulSoup object out of webpage html\n",
    "soup = bs(nasa_html, 'html.parser')\n",
    "\n",
    "#Isolate unordered list containing news stories.\n",
    "nasa_news = soup.find('ul', class_='item_list')\n",
    "\n",
    "#Isolate the List Item/s from the 'ul' container\n",
    "news_stories = nasa_news.find_all('li')\n",
    "#news_stories = nasa_news.find('li')\n",
    "news_stories"
   ]
  },
  {
   "cell_type": "code",
   "execution_count": 32,
   "metadata": {},
   "outputs": [
    {
     "name": "stdout",
     "output_type": "stream",
     "text": [
      "-------------\n",
      "Title: Things Are Stacking up for NASA's Mars 2020 Spacecraft:\n",
      "Discription: >>> As the July 2020 launch date inches closer, the next spacecraft headed to the Red Planet is assembled for more testing. <<<\n",
      "-------------\n"
     ]
    }
   ],
   "source": [
    "first_story = news_stories[0]\n",
    "### #first_story\n",
    "# Identify and return title\n",
    "news_title = first_story.find('div', class_ = \"bottom_gradient\").h3.text\n",
    "# Identify and story summary\n",
    "news_p = first_story.find('div', class_ = \"article_teaser_body\").text\n",
    "\n",
    "\n",
    "# Print results for title and paragraph\n",
    "print('-------------')\n",
    "print(f'Title: {news_title}:')\n",
    "print(f'Discription: >>> {news_p} <<<')\n",
    "print('-------------')"
   ]
  },
  {
   "cell_type": "markdown",
   "metadata": {},
   "source": [
    "### Getting the full text for the article\n",
    "#### Not Required for assignment"
   ]
  },
  {
   "cell_type": "code",
   "execution_count": 33,
   "metadata": {},
   "outputs": [
    {
     "data": {
      "text/plain": [
       "'\\nFor the past few months, the clean room floor in High Bay 1 at NASA\\'s Jet Propulsion Laboratory in Pasadena, California, has been covered in parts, components and test equipment for the Mars 2020 spacecraft, scheduled for launch toward the Red Planet in July of 2020. But over the past few weeks, some of these components — the spacecraft-rocket-laden landing system and even the stand-in for the rover (christened \"surrogate-rover\") — have seemingly disappeared.\\nIn reality, they are still there, tucked neatly into the entry capsule, as they will be when it\\'s time for launch. The procedure is known as vehicle stacking and involves a hyper-detailed plan for what goes where and when.\\n\"One of our main jobs is to make sure the rover and all the hardware that is required to get the rover from here on Earth to the surface of Mars fits inside the payload fairing of an Atlas V rocket, which gives us about 15 feet [5 meters] of width to work with,\" said David Gruel, assembly, test and launch operations (ATLO) manager for Mars 2020 at JPL.\\nThe first step is to place the rocket-powered descent stage on top of the surrogate rover (the real rover is being integrated and tested in tandem with the spacecraft stack). Then, when all the holes line up and everything is attached, checked and re-checked again, the backshell is lowered over them via gantry crane.\\n\"That crane has lifted almost every spacecraft that\\'s come through JPL since Mariner,\" said Gruel. \"To safely lift the large pieces of the Mars 2020 spacecraft, we utilize a dozen technicians and engineers.\"\\nAfter the backshell is in place and everything is determined to be fitting properly, the team puts on the parachute nose cone, which protects the parachute during atmospheric entry, followed by the massive doughnut-shaped cruise stage, which will power the Mars 2020 spacecraft on its seven-month voyage to the Red Planet. Then the vehicle stack is turned on its side so technicians and engineers have access to the mating points between the cruise and descent stages to make connections. The stack is then returned to its original position (cruise stage on top) so the heat shield can be raised into position and attached.\\n\"Stacking is an important milestone in mission development, because as good as our computer models are, we still need to put it together to show that the bolt holes line up and everything fits together,\" said Gruel. \"It is a great feeling for the entire project when we see the stack sitting there waiting to go for the next part of its journey, which will eventually lead to a launch pad at the Cape Canaveral in July of next year.\"\\nAfter three weeks, stacking is finished on April 3, and the spacecraft is transported to JPL\\'s Environmental Test Facility to undergo acoustic testing. During this testing the stack will be bombarded with a thundering wall of sound designed to imitate the sound waves generated during launch. Then, after a check to make sure no bolts have rattled loose or attachment points have become unstuck, the stack heads to the thermal vacuum chamber for a week-long test that simulates the harsh environment of space to assess how the Mars-bound craft and its instruments operate under flightlike conditions.\\n\"Nothing is static with this mission,\" said Gruel. \"After the acoustic and thermal vac tests, the stacked spacecraft is returned to the assembly building for de-stack, then more testing and more work. Until the hold-down bolts on the Atlas rocket blow and our rover is headed to Mars in July of 2020, there is almost always something being assembled, tested or modified.\"  \\nThe Mars 2020 rover will conduct geological assessments of its landing site on Mars, determine the habitability of the environment, search for signs of ancient Martian life, and assess natural resources and hazards for future human explorers. Scientists will use the instruments aboard the rover to identify and collect samples of rock and soil, encase them in sealed tubes and leave them on the planet\\'s surface for potential return to Earth on a future Mars mission.\\nThe Mars 2020 Project at JPL manages rover development for the Science Mission Directorate at NASA Headquarters in Washington. NASA\\'s Launch Services Program, based at the agency\\'s Kennedy Space Center in Florida, is responsible for launch management.\\nFor more information about the Mars 2020 mission, go to:\\nhttp://mars.nasa.gov/mars2020/\\nFor more information about NASA\\'s Mars missions, go to:\\nhttps://www.nasa.gov/mars\\nNews Media Contact\\nDC Agle \\nJet Propulsion Laboratory, Pasadena, Calif.\\n818-393-9011\\nagle@jpl.nasa.gov\\nAlana Johnson\\nNASA HQ, Washington, DC\\n202-672-4780\\nalana.r.johnson@nasa.gov\\n'"
      ]
     },
     "execution_count": 33,
     "metadata": {},
     "output_type": "execute_result"
    }
   ],
   "source": [
    "# Get link for full Article (not required)\n",
    "news_link_div = first_story.find('div', class_='image_and_description_container')\n",
    "#news_link_div\n",
    "news_link = (news_link_div.find('a')['href'])\n",
    "#news_link\n",
    "\n",
    "# Navigate to bowser for full article (no required)\n",
    "browser.click_link_by_href(news_link)\n",
    "\n",
    "#Get text for full article (not required)\n",
    "splinter_new_html = browser.html\n",
    "\n",
    "new_soup_html = bs(splinter_new_html, \"html.parser\")\n",
    "new_soup_html.find('div', class_='wysiwyg_content').get_text()\n"
   ]
  },
  {
   "cell_type": "markdown",
   "metadata": {},
   "source": [
    "## Looping through all stories on first page of Nasa website.\n",
    "#### Not required for assignment"
   ]
  },
  {
   "cell_type": "code",
   "execution_count": 35,
   "metadata": {},
   "outputs": [
    {
     "name": "stdout",
     "output_type": "stream",
     "text": [
      "-------------\n",
      "Title: Things Are Stacking up for NASA's Mars 2020 Spacecraft:\n",
      "Discriiption: >>> As the July 2020 launch date inches closer, the next spacecraft headed to the Red Planet is assembled for more testing. <<<\n",
      "-------------\n",
      "Title: Curiosity Tastes First Sample in 'Clay-Bearing Unit':\n",
      "Discriiption: >>> This new region on Mars might reveal more about the role of water on Mount Sharp. <<<\n",
      "-------------\n",
      "Title: More Testing for Mars InSight's 'Mole':\n",
      "Discriiption: >>> After the mission's heat probe began hammering last week, it appears to have hit a rock. The team is analyzing data before they hammer again. <<<\n",
      "-------------\n",
      "Title: NASA Garners 7 Webby Award Nominations:\n",
      "Discriiption: >>> Nominees include four JPL projects: the solar system and climate websites, InSight social media, and a 360-degree Earth video. Public voting closes April 18, 2019. <<<\n",
      "-------------\n",
      "Title: Curiosity Captured Two Solar Eclipses on Mars:\n",
      "Discriiption: >>> Observing the Martian moons Phobos and Deimos crossing in front of the Sun helps scientists better understand their orbits. <<<\n",
      "-------------\n",
      "Title: NASA's Mars Helicopter Completes Flight Tests:\n",
      "Discriiption: >>> The first helicopter to fly on Mars had its first flight on Earth. <<<\n",
      "-------------\n",
      "Title: Asteroids, Hydrogen Make Great Recipe for Life on Mars:\n",
      "Discriiption: >>> Laser blasts in lab tests suggest asteroid bombardment could have provided key ingredients for life on ancient Mars. <<<\n",
      "-------------\n",
      "Title: Catch NASA's JPL at the Clippers SciFest This Weekend:\n",
      "Discriiption: >>> Students and families can meet a Mars rover, take a virtual tour through our solar system and explore alien worlds with NASA's Jet Propulsion Laboratory at the Clippers SciFest SoCal. <<<\n",
      "-------------\n",
      "Title: NASA's Mars 2020 Rover Is Put to the Test:\n",
      "Discriiption: >>> In January, Mars 2020 engineers and technicians took over JPL's cleanroom to put the mission's cruise, entry capsule, descent stage and rover through their paces. <<<\n",
      "-------------\n",
      "Title: Opportunity's Parting Shot Was a Beautiful Panorama:\n",
      "Discriiption: >>> NASA declared the record-setting rover's mission complete on Feb. 13, 2019, but the final image from the rover has just been processed. <<<\n",
      "-------------\n",
      "Title: Curiosity Resumes Operations After Switching Computers:\n",
      "Discriiption: >>> Curiosity experienced a computer reset on its Side-A computer on Wednesday, March 6, 2019 (Sol 2,339), that triggered the rover's safe mode. <<<\n",
      "-------------\n",
      "Title: InSight Lands Praise and a Proclamation from LA County:\n",
      "Discriiption: >>> Several members of the Mars InSight team accepted a proclamation on behalf of the mission from L.A. County Board of Supervisors on Tuesday, Feb. 19. <<<\n",
      "-------------\n",
      "Title: InSight Is the Newest Mars Weather Service:\n",
      "Discriiption: >>> By collecting data around the clock, NASA's lander will provide unique science about the Martian surface. <<<\n",
      "-------------\n",
      "Title: Six Things to Know About NASA's Opportunity Rover:\n",
      "Discriiption: >>> Opportunity's mission is complete. Here are highlights from its time on Mars. <<<\n",
      "-------------\n",
      "Title: NASA's Opportunity Rover Mission on Mars Comes to End:\n",
      "Discriiption: >>> NASA's Opportunity Mars rover mission is complete after 15 years on Mars. Opportunity's record-breaking exploration laid the groundwork for future missions to the Red Planet. <<<\n",
      "-------------\n",
      "Title: NASA's InSight Prepares to Take Mars' Temperature:\n",
      "Discriiption: >>> The lander's second instrument is on the ground. But its ‘mole’ — a burrowing probe — has a long way to go. <<<\n",
      "-------------\n",
      "Title: NASA to Share Results of Effort to Recover Mars Rover:\n",
      "Discriiption: >>> NASA will discuss the status of its Mars Exploration Rover Opportunity in a media briefing at 11 a.m. PST (2 p.m. EST) Wednesday, Feb. 13, from the Jet Propulsion Laboratory. <<<\n",
      "-------------\n",
      "Title: NASA's MAVEN Spacecraft Shrinking its Mars Orbit to Prepare for Mars 2020 Rover:\n",
      "Discriiption: >>> The MAVEN spacecraft today is starting a campaign to tighten its orbit around Mars to prepare to serve as a data-relay satellite for NASA’s Mars 2020 rover, which launches next year. <<<\n",
      "-------------\n",
      "Title: 360 Video: Curiosity Rover Departs Vera Rubin Ridge:\n",
      "Discriiption: >>> This panorama from the Mast Camera (Mastcam) on NASA's Curiosity Mars rover was taken on Dec. 19 (Sol 2265). The rover's last drill location on Vera Rubin Ridge is visible, as well as the clay region it will spend the next year exploring. <<<\n",
      "-------------\n",
      "Title: Beyond Mars, the Mini MarCO Spacecraft Fall Silent:\n",
      "Discriiption: >>> The first CubeSat mission to deep space may have reached their limit, but they could inspire future NASA missions. <<<\n",
      "-------------\n",
      "Title: InSight's Seismometer Now Has a Cozy Shelter on Mars:\n",
      "Discriiption: >>> A domed shield has been set over one of InSight's primary science instruments, protecting it from Mars' wind and temperature changes. <<<\n",
      "-------------\n",
      "Title: \"Mars Buggy\" Curiosity Measures a Mountain's Gravity:\n",
      "Discriiption: >>> Smartphone-like sensors on the NASA rover were used to calculate the density of Mount Sharp, offering new clues to its formation. <<<\n",
      "-------------\n",
      "Title: Curiosity Says Farewell to Mars' Vera Rubin Ridge:\n",
      "Discriiption: >>> The Mars rover is moving on and has taken its last selfie on the ridge it's explored for more than a year. <<<\n",
      "-------------\n",
      "Title: Rover Team Beaming New Commands to Opportunity on Mars:\n",
      "Discriiption: >>> Engineers at JPL have begun transmitting a new set of commands to Opportunity in an attempt to compel the Mars rover to contact Earth. <<<\n",
      "-------------\n",
      "Title: NASA's Opportunity Rover Logs 15 Years on Mars:\n",
      "Discriiption: >>> The rover landed in a region of the Red Planet called Meridiani Planum 16 years ago today, on Jan. 24, 2004. <<<\n",
      "-------------\n",
      "Title: NASA's InSight Places First Instrument on Mars:\n",
      "Discriiption: >>> In deploying its first instrument onto the surface of Mars, the lander completes a major mission milestone. <<<\n",
      "-------------\n",
      "Title: InSight Engineers Have Made a Martian Rock Garden:\n",
      "Discriiption: >>> Reconstructing Mars here on Earth lets them practice setting down the lander's science instruments. <<<\n",
      "-------------\n",
      "Title: Mars InSight Lander Seen in First Images from Space :\n",
      "Discriiption: >>> Look closely, and you can make out the lander's solar panels. <<<\n",
      "-------------\n",
      "Title: NASA's InSight Takes Its First Selfie:\n",
      "Discriiption: >>> Two new image mosaics detail the lander's deck and \"workspace\" — the surface where it will eventually set down its science instruments. <<<\n",
      "-------------\n",
      "Title: NASA InSight Lander 'Hears' Martian Winds :\n",
      "Discriiption: >>> Vibrations picked up by two spacecraft instruments have provided the first sounds of Martian wind. <<<\n",
      "-------------\n",
      "Title: NASA's Mars InSight Flexes Its Arm:\n",
      "Discriiption: >>> Now unstowed, the spacecraft's robotic arm will point a camera located on its elbow and take images of the surroundings. <<<\n",
      "-------------\n",
      "Title: Mars New Home 'a Large Sandbox':\n",
      "Discriiption: >>> With InSight safely on the surface of Mars, the mission team is busy learning more about the spacecraft's landing site. <<<\n",
      "-------------\n",
      "Title: NASA Hears MarCO CubeSats Loud and Clear from Mars :\n",
      "Discriiption: >>> A pair of tiny, experimental spacecraft fulfilled their mission yesterday, relaying back near-real-time data during InSight's landing. <<<\n",
      "-------------\n",
      "Title: InSight Is Catching Rays on Mars:\n",
      "Discriiption: >>> The lander has sent data indicating its solar panels are open and receiving sunlight to power its surface operations. <<<\n",
      "-------------\n",
      "Title: NASA InSight Lander Arrives on Martian Surface :\n",
      "Discriiption: >>> The touchdown marks the eighth time NASA has successfully landed a spacecraft on Mars. <<<\n",
      "-------------\n",
      "Title: Landing Day for InSight:\n",
      "Discriiption: >>> NASA's InSight spacecraft is on target for Mars landing at around noon PST today. <<<\n",
      "-------------\n",
      "Title: NASA InSight Landing on Mars: Milestones:\n",
      "Discriiption: >>> On Nov. 26, NASA's InSight spacecraft will blaze through the Martian atmosphere and set a lander gently on the surface in less time than it takes to cook a hard-boiled egg. <<<\n",
      "-------------\n",
      "Title: NASA InSight Team on Course for Mars Touchdown:\n",
      "Discriiption: >>> NASA's Mars InSight spacecraft is on track for a soft touchdown on the surface of the Red Planet on Nov. 26. <<<\n",
      "-------------\n",
      "Title: What Two Planetary Siblings Can Teach Us About Life:\n",
      "Discriiption: >>> In studying Mars, NASA's InSight will reveal what makes one planet more or less suitable for life than another. <<<\n",
      "-------------\n",
      "Title: NASA Announces Landing Site for Mars 2020 Rover:\n",
      "Discriiption: >>> After a five-year search, NASA has chosen Jezero Crater as the landing site for its upcoming Mars 2020 rover mission. <<<\n"
     ]
    }
   ],
   "source": [
    "# Loop through news story list items and return printable results.\n",
    "for story in news_stories:\n",
    "    # Error handling\n",
    "    try:\n",
    "        # Identify and return title\n",
    "        news_title = story.find('div', class_ = \"bottom_gradient\").h3.text\n",
    "        # Identify and story summary\n",
    "        news_p = story.find('div', class_ = \"article_teaser_body\").text\n",
    "        \n",
    "\n",
    "        # Print results only if title, price, and link are available\n",
    "        if (news_title and news_p):\n",
    "            print('-------------')\n",
    "            print(f'Title: {news_title}:')\n",
    "            print(f'Discriiption: >>> {news_p} <<<')\n",
    "    except AttributeError as e:\n",
    "        print(e)\n",
    "        "
   ]
  },
  {
   "cell_type": "markdown",
   "metadata": {},
   "source": [
    "## JPL Mars Space Images - Featured Image\n",
    "\n",
    "* Visit the url for JPL Featured Space Image [here](https://www.jpl.nasa.gov/spaceimages/?search=&category=Mars).\n",
    "\n",
    "* Use splinter to navigate the site and find the image url for the current Featured Mars Image and assign the url string to a variable called `featured_image_url`.\n",
    "\n",
    "* Make sure to find the image url to the full size `.jpg` image.\n",
    "\n",
    "* Make sure to save a complete url string for this image.\n",
    "\n",
    "```python\n",
    "# Example:\n",
    "featured_image_url = 'https://www.jpl.nasa.gov/spaceimages/images/largesize/PIA16225_hires.jpg'\n",
    "```"
   ]
  },
  {
   "cell_type": "markdown",
   "metadata": {},
   "source": [
    "### Set up JPL url with base_url to be used later on\n",
    "\n",
    "**jpl_url** set to: https://www.jpl.nasa.gov/spaceimages/?search=&category=Mars"
   ]
  },
  {
   "cell_type": "code",
   "execution_count": 38,
   "metadata": {},
   "outputs": [
    {
     "name": "stdout",
     "output_type": "stream",
     "text": [
      "[<splinter.driver.webdriver.WebDriverElement object at 0x109410b70>]\n"
     ]
    }
   ],
   "source": [
    "# Set base url to be used later.\n",
    "base_url = 'https://www.jpl.nasa.gov'\n",
    "# Go to search results for Mars\n",
    "jpl_url = f'{base_url}/spaceimages/?search=&category=Mars'\n",
    "image_html= browser.visit(jpl_url)\n"
   ]
  },
  {
   "cell_type": "markdown",
   "metadata": {},
   "source": [
    "### Primary Method for getting JPL Mars Space Images"
   ]
  },
  {
   "cell_type": "code",
   "execution_count": null,
   "metadata": {},
   "outputs": [],
   "source": [
    "base_url = 'https://www.jpl.nasa.gov'\n",
    "jpl_url = f'{base_url}/spaceimages/?search=&category=Mars'\n",
    "\n",
    "browser.visit(jpl_url)\n",
    "#image_html= browser.visit(jpl_url)\n",
    "\n",
    "jpl_a_html = browser.html\n",
    "\n",
    "\n",
    "parsed_a_html = bs(jpl_a_html, 'html.parser')\n",
    "\n",
    "\n",
    "description_page = parsed_a_html.find_all('a', class_='button fancybox')[0]['data-link']\n",
    "\n",
    "#Concatenate route and base url\n",
    "description_url = base_url + description_page\n",
    "\n",
    "#Open new url using splinter\n",
    "browser.visit(description_url)\n",
    "\n",
    "#Create HTML object\n",
    "image = browser.html\n",
    "\n",
    "#Parse HTML object with BeautifulSoup\n",
    "soup = bs(image, 'html.parser')\n",
    "\n",
    "#Retrieve route to full-size image \n",
    "img = soup.find('img', class_=\"main_image\")['src']\n",
    "\n",
    "#Concatenate route with base url\n",
    "featured_image_url = base_url + img\n",
    "print(featured_image_url)\n"
   ]
  },
  {
   "cell_type": "markdown",
   "metadata": {},
   "source": [
    "### Navigating to image to get url (not recommended method)"
   ]
  },
  {
   "cell_type": "code",
   "execution_count": 40,
   "metadata": {
    "scrolled": false
   },
   "outputs": [
    {
     "name": "stdout",
     "output_type": "stream",
     "text": [
      "/spaceimages/images/mediumsize/PIA17564_ip.jpg\n"
     ]
    },
    {
     "data": {
      "text/plain": [
       "'https://www.jpl.nasa.gov/spaceimages/images/mediumsize/PIA17564_ip.jpg'"
      ]
     },
     "execution_count": 40,
     "metadata": {},
     "output_type": "execute_result"
    }
   ],
   "source": [
    "# the fancy way to get the image url\n",
    "image_link = browser.find_link_by_partial_text('FULL IMAGE')\n",
    "print(image_link)\n",
    "image_link.click()\n",
    "\n",
    "\n",
    "jpl_2_html = browser.html\n",
    "parsed_html = bs(jpl_2_html, 'html.parser')\n",
    "\n",
    "\n",
    "\n",
    "grab_div = parsed_html.find('div', class_ = \"fancybox-inner\")\n",
    "#print(something)\n",
    "src_url = (grab_div.find('img')['src'])\n",
    "#print(something.find('img')['src'])\n",
    "print(src_url)\n",
    "jpl_img_url = f'{base_url}{src_url}'\n",
    "browser.visit(jpl_img_url)\n",
    "jpl_img_url"
   ]
  },
  {
   "cell_type": "markdown",
   "metadata": {},
   "source": [
    "# Example Code"
   ]
  },
  {
   "cell_type": "markdown",
   "metadata": {},
   "source": [
    "**Toy Code** for understanding Soup parsing"
   ]
  },
  {
   "cell_type": "code",
   "execution_count": null,
   "metadata": {},
   "outputs": [],
   "source": [
    "html = '''\n",
    "<img src=\"smiley.gif\" alt=\"Smiley face\" height=\"42\" width=\"42\">'''\n",
    "soup = bs(html)\n",
    "images = soup.find('img')\n",
    "print(images['src']) #smiley.gif\n",
    "# url = browser.visit('http://www.python.org')\n",
    "\n",
    "# python_html = browser.html\n",
    "# soup = bs(python_html, 'html.parser')\n",
    "# srcs = [img['src'] for img in soup.find_all('img')]\n",
    "# srcs\n",
    "url = browser.visit('https://www.jpl.nasa.gov/spaceimages/?search=&category=Mars')\n",
    "\n",
    "test_html = browser.html\n",
    "soup = bs(test_html, 'html.parser')\n",
    "srcs = [img['src'] for img in soup.find_all('img')]\n",
    "srcs"
   ]
  },
  {
   "cell_type": "markdown",
   "metadata": {},
   "source": [
    "## Mars Weather"
   ]
  },
  {
   "cell_type": "code",
   "execution_count": 41,
   "metadata": {},
   "outputs": [
    {
     "data": {
      "text/plain": [
       "'InSight sol 141 (2019-04-20) low -98.3ºC (-144.9ºF) high -19.7ºC (-3.5ºF)\\nwinds from the SW at 4.7 m/s (10.6 mph) gusting to 12.9 m/s (28.8 mph)\\npressure at 7.40 hPapic.twitter.com/CQr1QQt3cM'"
      ]
     },
     "execution_count": 41,
     "metadata": {},
     "output_type": "execute_result"
    }
   ],
   "source": [
    "#Set Mars twitter URL\n",
    "mars_twitter_url = \"https://twitter.com/marswxreport?lang=en\"\n",
    "\n",
    "#Navigate to Mars twitter URL.\n",
    "browser.visit(mars_twitter_url)\n",
    "\n",
    "#Pull HTML from twitter page.\n",
    "mars_twitter_html = browser.html\n",
    "\n",
    "#Use Beautiful Soup to parse html from browser.\n",
    "mars_twitter_soup = bs(mars_twitter_html, \"html.parser\")\n",
    "\n",
    "#Find most recent tweet of weather.\n",
    "mars_tweet= mars_twitter_soup.find('div', class_='js-tweet-text-container').find('p').get_text()\n",
    "\n",
    "mars_tweet"
   ]
  },
  {
   "cell_type": "markdown",
   "metadata": {},
   "source": [
    "### Mars Hemispheres\n",
    "\n",
    "* Visit the USGS Astrogeology site [here](https://astrogeology.usgs.gov/search/results?q=hemisphere+enhanced&k1=target&v1=Mars) to obtain high resolution images for each of Mar's hemispheres.\n",
    "\n",
    "* You will need to click each of the links to the hemispheres in order to find the image url to the full resolution image.\n",
    "\n",
    "* Save both the image url string for the full resolution hemisphere image, and the Hemisphere title containing the hemisphere name. Use a Python dictionary to store the data using the keys `img_url` and `title`.\n",
    "\n",
    "* Append the dictionary with the image url string and the hemisphere title to a list. This list will contain one dictionary for each hemisphere.\n",
    "\n",
    "```python\n",
    "# Example:\n",
    "hemisphere_image_urls = [\n",
    "    {\"title\": \"Valles Marineris Hemisphere\", \"img_url\": \"...\"},\n",
    "    {\"title\": \"Cerberus Hemisphere\", \"img_url\": \"...\"},\n",
    "    {\"title\": \"Schiaparelli Hemisphere\", \"img_url\": \"...\"},\n",
    "    {\"title\": \"Syrtis Major Hemisphere\", \"img_url\": \"...\"},\n",
    "]\n",
    "```\n",
    "\n",
    "- - -"
   ]
  },
  {
   "cell_type": "code",
   "execution_count": null,
   "metadata": {},
   "outputs": [],
   "source": [
    "# Set url for USGS\n",
    "usgs_start_url= 'https://astrogeology.usgs.gov/search/results?q=hemisphere+enhanced&k1=target&v1=Mars'\n",
    "\n",
    "#Go to initial page\n",
    "browser.visit(usgs_start_url)\n",
    "time.sleep(.01)\n",
    "\n",
    "print(\"------\\nOpening Browser\\n------\")\n",
    "\n",
    "#List of WebDriveElements\n",
    "usgs_items = browser.find_by_css(\"a.itemLink h3\")\n",
    "\n",
    "for i in range(len(usgs_items)):\n",
    "    print(f\"------\\nImage Loop {i+1}\\n------\")\n",
    "    usgs_items = browser.find_by_css(\"a.itemLink h3\")\n",
    "    usgs_items[i].click()\n",
    "    time.sleep(.1)\n",
    "\n",
    "    #From image page get URL for image.\n",
    "    li_item = browser.find_by_css(\"div.downloads li\").first\n",
    "    to_soup = bs(li_item.html, \"html.parser\")\n",
    "    usgs_img_url = to_soup.find('a')['href']\n",
    "\n",
    "    #From image page get Title \n",
    "    title_item = browser.find_by_css(\"div.content h2\").text\n",
    "    \n",
    "    #print items\n",
    "    usgs_dict = { 'title' : title_item, 'img_url': usgs_img_url}\n",
    "    hemisphere_image_urls.append(usgs_dict)\n",
    "    \n",
    "    #Go to initial page\n",
    "    browser.visit(usgs_start_url)\n",
    "    time.sleep(.1)\n",
    "\n",
    "print('Program Complete\\n\\nImages for:')\n",
    "for i in range(len(hemisphere_image_urls)):\n",
    "    print(f'Found following images:\\n{hemisphere_image_urls[i][\"title\"]}')"
   ]
  },
  {
   "cell_type": "code",
   "execution_count": null,
   "metadata": {},
   "outputs": [],
   "source": []
  },
  {
   "cell_type": "code",
   "execution_count": null,
   "metadata": {},
   "outputs": [],
   "source": []
  }
 ],
 "metadata": {
  "kernelspec": {
   "display_name": "Python 3",
   "language": "python",
   "name": "python3"
  },
  "language_info": {
   "codemirror_mode": {
    "name": "ipython",
    "version": 3
   },
   "file_extension": ".py",
   "mimetype": "text/x-python",
   "name": "python",
   "nbconvert_exporter": "python",
   "pygments_lexer": "ipython3",
   "version": "3.7.2"
  }
 },
 "nbformat": 4,
 "nbformat_minor": 2
}
